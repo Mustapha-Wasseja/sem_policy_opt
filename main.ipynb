{
 "cells": [
  {
   "cell_type": "markdown",
   "metadata": {},
   "source": [
    "# Intro\n",
    "\n",
    "Machine learning focuses on making accurate predictions. But we influence the world through decisions, not predictions. Predictions can be useful inputs to improve decision-making, but models that directly help us achieve goals will be more valuable than those that only make predictions.\n",
    "\n",
    "Reinforcement learning aims to solve for optimal decision-making, but most mainstream business problems look little like existing RL work. Moreover, most RL research intentionally avoids reliance on humans' existing domain knowledge. I take the opposite approach, and show how human chosen structure expands the scope of tractible applications of RL.\n",
    "\n",
    "My approach combines RL with Structural Equation Modeling, a technique that encodes human domain knowledge into a model (typically using multiple equations that describe different parts of the domain.)\n",
    "\n",
    "My workflow is:\n",
    "1. Use structural equation modeling to create a model of the business environment. \n",
    "2. Use real data to estimate the structural model\n",
    "3. Treat the estimated model as a simulation environment, and apply reinforcement learning algorithms to find an optimal the decision policy in the simulator\n",
    "4. Apply that decision policy to make optimized decisions in the real business environment\n",
    "\n",
    "The transfer from a simulation model to the data generating environment is inspired by [world models](https://arxiv.org/abs/1803.10122) while the use of structural equation models is standard in structural microeconometrics (the field of my PhD research).\n",
    "\n",
    "I believe the approach suggested here can improve how we make decisions in a wide range of business applications.\n",
    "\n",
    "# Example Use Cases\n",
    "\n",
    "### Airline Pricing\n",
    "Airlines use machine learning models to help set ticket prices. A model predicts how many tickets the airline can sell each day for each upcoming flight for each candidate price. The models consider price, seasonablity, competitor prices, macroeconomic variables, etc. But even a perfect predictive model doesn't guarantee efficient price setting.\n",
    "\n",
    "For example, consider a flight happening in 100 days which currently has 150 unsold seats. A predictive model says you can sell 1 ticket today for \\\\$300 or you could sell 2 tickets if you set the price at $250. Which price should you choose? \n",
    "\n",
    "Airlines currently convert predictive models into pricing decisions with heuristics (e.g. a timetable of how many tickets to sell at pre-specified periods before the flight, or a goal of selling up to a pre-specified demand elasticity.)\n",
    "\n",
    "### Grocery Store Logistics\n",
    "A grocery chain ran a [predictive modeling competition on Kaggle](https://www.kaggle.com/c/favorita-grocery-sales-forecasting) to improve demand forecasts. They aimed to stock match their purchases from wholesales to their retail sales. However, the predicted sales is not always the optimal amount to stock.\n",
    "\n",
    "If you purchase exactly the amount you are predicted to sell, you will experience frequent stockouts (when your model underestimates demand), reducing sales volume and disappointing customers.  Similarly, some items will spoil when predicted sales exceed actual sales. Unless the model is exactly correct every time, you face a tradeoff.  The optimal decision would consider factors like\n",
    "- Markup rate on each item\n",
    "- Spoilage rate\n",
    "- Cost of storage\n",
    "- Value of ensuring customers find the items they want\n",
    "- etc.\n",
    "\n",
    "In practice, grocery store managers likely guess at how to make these tradeoffs, much as they may have guessed at how much of each food they would sell before adopting ML. But the approach in this notebook would help them make better decisions.\n",
    "\n",
    "\n",
    "# Implemention Overview\n",
    "This notebook focuses on the Airline Pricing example.\n",
    "\n",
    "To illustrate the how resulting pricing policies perform in the original data generating environment, I use a simulation for the data generating process rather than using real data. Though I take a fixed dataset for trainng the predictive model in the conventional way. For illustrative simplicity, this example considers a market with only two airlines.\n",
    "\n",
    "## Market Set-Up\n",
    "We train an agent to set prices for Jetblue; the competitor, whose prices we cannot control, is called Delta. \n",
    "\n",
    "There are two types of information:\n",
    "1. Information and processes that are known to the airline (such as the number of seats on each flight, days remaining before takeoff, etc.).\n",
    "2. Information and processes that aren't directly know to the airlines (their competitor's pricing policy, and the exact demand for tickets on each day). \n",
    "\n",
    "The airline builds a model to predict factors they don't directly observe. Processes they don't directly observe are stored in a `CompetitiveConditions` object. When simulating data the real environment, I build a `CompetitiveConditions` from the true data generating process. When optimizing pricing, the airline use a `CompetitiveConditions` object based on their predictive model.\n",
    "\n",
    "The other important class in the following code is the `Market`. A `Market` object holds some `CompetitiveConditions` as well as all information that airlines can directly observe. \n",
    "\n",
    "`Market` follows the OpenAI Gym API. So we can apply standard reinforcement learning tools to optimize the pricing policy from our model based environment."
   ]
  },
  {
   "cell_type": "markdown",
   "metadata": {},
   "source": [
    "# Step 1: Collect Data From Real Market\n",
    "\n",
    "We define some parameters and import a function that determine the true data generating process. The exact market mechanisms (which the constants below affect) aren't central to the optimization workflow. So a description of the market details is postponed to the bottom of this notebook.\n",
    "\n",
    "For now, you can safely treat the quantity-determining mechanism and it's parameters as a black box, much as the airlines do."
   ]
  },
  {
   "cell_type": "code",
   "execution_count": 1,
   "metadata": {},
   "outputs": [],
   "source": [
    "import altair as alt\n",
    "import numpy as np\n",
    "import pandas as pd\n",
    "\n",
    "from sem_policy_opt.true_dgp import get_true_qty_demanded_fn\n",
    "\n",
    "# Constants hidden from airlines\n",
    "CUSTOMER_LEVEL_RANDOMNESS = 20\n",
    "DEMAND_SIGNAL_NOISINESS = 10\n",
    "MAX_DEMAND_LEVEL = 400\n",
    "POTENTIAL_CUSTOMERS_PER_DAY = 20\n",
    "\n",
    "# Constants known to airlines\n",
    "SEATS_PER_FLIGHT = 250\n",
    "SALES_WINDOW_LENGTH = 120\n"
   ]
  },
  {
   "cell_type": "markdown",
   "metadata": {},
   "source": [
    "I used trial and error to find a reasonable pricing function. I use the following function for both airlines when creating \"real\" data."
   ]
  },
  {
   "cell_type": "code",
   "execution_count": 2,
   "metadata": {},
   "outputs": [],
   "source": [
    "def simple_price_fn(my_demand_signal, days_before_flight, my_seats_avail, competitor_full): \n",
    "    # Charge more if you have a lot of time to sell seats, if few seats are available, or if you have little competition\n",
    "    # On net, prices may increase over time because low seat inventory overwhelms remaining time effect.\n",
    "    formula_price = 50 + my_demand_signal + 0.6 * days_before_flight - my_seats_avail + 40 * int(competitor_full)\n",
    "    # demand_signal is noisy and can thus be negative. Never price tickets below some price_floor\n",
    "    price_floor = 10\n",
    "    actual_price = max(formula_price, price_floor)\n",
    "    return actual_price\n"
   ]
  },
  {
   "cell_type": "markdown",
   "metadata": {},
   "source": [
    "# Run Real Market\n",
    "\n",
    "Airlines have historical data they can use to build a model. Here, we run the \"real\" environment to create this data."
   ]
  },
  {
   "cell_type": "code",
   "execution_count": 3,
   "metadata": {},
   "outputs": [],
   "source": [
    "from sem_policy_opt.market import Market\n",
    "from sem_policy_opt.market_conditions import CompetitiveConditions\n",
    "from sem_policy_opt.diagnostics import run_env\n",
    "\n",
    "real_market_conditions = CompetitiveConditions(delta_price_fn = simple_price_fn, \n",
    "                                               qty_fn=get_true_qty_demanded_fn(POTENTIAL_CUSTOMERS_PER_DAY, CUSTOMER_LEVEL_RANDOMNESS))\n",
    "\n",
    "real_market = Market(real_market_conditions, MAX_DEMAND_LEVEL, DEMAND_SIGNAL_NOISINESS, SEATS_PER_FLIGHT, SALES_WINDOW_LENGTH) \n",
    "\n",
    "train_profits, train_data = run_env(real_market, simple_price_fn, n_times=1000)\n",
    "val_profits, val_data = run_env(real_market, simple_price_fn, n_times=50)"
   ]
  },
  {
   "cell_type": "markdown",
   "metadata": {},
   "source": [
    "# Step 2: Fit Machine Learning Model on Real Data\n",
    "\n",
    "We fit a model that predicts Delta's price and the quantity sold as a function of\n",
    "- Days remaining\n",
    "- Jetblue's demand signal\n",
    "- Jetblue's remaining number of seats available\n",
    "- Whether Delta's flight is fully booked (i.e. whether Delta is still selling tickets)\n"
   ]
  },
  {
   "cell_type": "code",
   "execution_count": 4,
   "metadata": {},
   "outputs": [
    {
     "name": "stdout",
     "output_type": "stream",
     "text": [
      "Train on 120000 samples, validate on 6000 samples\n",
      "Epoch 1/40\n",
      "120000/120000 [==============================] - 1s 12us/step - loss: 8561.0210 - val_loss: 1492.7108\n",
      "Epoch 2/40\n",
      "120000/120000 [==============================] - 1s 8us/step - loss: 1452.9755 - val_loss: 1418.3351\n",
      "Epoch 3/40\n",
      "120000/120000 [==============================] - 1s 9us/step - loss: 1393.3610 - val_loss: 1364.4476\n",
      "Epoch 4/40\n",
      "120000/120000 [==============================] - 1s 9us/step - loss: 1340.6032 - val_loss: 1308.9453\n",
      "Epoch 5/40\n",
      "120000/120000 [==============================] - 1s 9us/step - loss: 1284.1099 - val_loss: 1248.9425\n",
      "Epoch 6/40\n",
      "120000/120000 [==============================] - 1s 9us/step - loss: 1221.8230 - val_loss: 1186.5704\n",
      "Epoch 7/40\n",
      "120000/120000 [==============================] - 1s 9us/step - loss: 1154.7589 - val_loss: 1112.0111\n",
      "Epoch 8/40\n",
      "120000/120000 [==============================] - 1s 9us/step - loss: 1084.0379 - val_loss: 1046.4470\n",
      "Epoch 9/40\n",
      "120000/120000 [==============================] - 1s 8us/step - loss: 1015.2706 - val_loss: 971.9219\n",
      "Epoch 10/40\n",
      "120000/120000 [==============================] - 1s 8us/step - loss: 951.5264 - val_loss: 913.6609\n",
      "Epoch 11/40\n",
      "120000/120000 [==============================] - 1s 8us/step - loss: 894.4401 - val_loss: 861.9548\n",
      "Epoch 12/40\n",
      "120000/120000 [==============================] - 1s 8us/step - loss: 851.1200 - val_loss: 823.5159\n",
      "Epoch 13/40\n",
      "120000/120000 [==============================] - 1s 8us/step - loss: 818.6563 - val_loss: 798.0090\n",
      "Epoch 14/40\n",
      "120000/120000 [==============================] - 1s 8us/step - loss: 794.4254 - val_loss: 777.8936\n",
      "Epoch 15/40\n",
      "120000/120000 [==============================] - 1s 8us/step - loss: 776.4502 - val_loss: 760.4947\n",
      "Epoch 16/40\n",
      "120000/120000 [==============================] - 1s 8us/step - loss: 760.4979 - val_loss: 749.6988\n",
      "Epoch 17/40\n",
      "120000/120000 [==============================] - 1s 9us/step - loss: 744.0765 - val_loss: 728.4575\n",
      "Epoch 18/40\n",
      "120000/120000 [==============================] - 1s 9us/step - loss: 727.7711 - val_loss: 712.3880\n",
      "Epoch 19/40\n",
      "120000/120000 [==============================] - 1s 8us/step - loss: 711.3505 - val_loss: 695.8001\n",
      "Epoch 20/40\n",
      "120000/120000 [==============================] - 1s 8us/step - loss: 695.7230 - val_loss: 695.9804\n",
      "Epoch 21/40\n",
      "120000/120000 [==============================] - 1s 8us/step - loss: 681.2151 - val_loss: 669.4837\n",
      "Epoch 22/40\n",
      "120000/120000 [==============================] - 1s 8us/step - loss: 666.7814 - val_loss: 656.1927\n",
      "Epoch 23/40\n",
      "120000/120000 [==============================] - 1s 8us/step - loss: 653.9492 - val_loss: 641.9137\n",
      "Epoch 24/40\n",
      "120000/120000 [==============================] - 1s 8us/step - loss: 644.0951 - val_loss: 633.7238\n",
      "Epoch 25/40\n",
      "120000/120000 [==============================] - 1s 8us/step - loss: 629.8442 - val_loss: 632.3869\n",
      "Epoch 26/40\n",
      "120000/120000 [==============================] - 1s 8us/step - loss: 620.9181 - val_loss: 612.9991\n",
      "Epoch 27/40\n",
      "120000/120000 [==============================] - 1s 8us/step - loss: 609.8755 - val_loss: 609.0308\n",
      "Epoch 28/40\n",
      "120000/120000 [==============================] - 1s 8us/step - loss: 599.8825 - val_loss: 600.0262\n",
      "Epoch 29/40\n",
      "120000/120000 [==============================] - 1s 8us/step - loss: 590.5341 - val_loss: 582.5110\n",
      "Epoch 30/40\n",
      "120000/120000 [==============================] - 1s 9us/step - loss: 581.0611 - val_loss: 574.6989\n",
      "Epoch 31/40\n",
      "120000/120000 [==============================] - 1s 10us/step - loss: 572.2061 - val_loss: 571.0264\n",
      "Epoch 32/40\n",
      "120000/120000 [==============================] - 1s 8us/step - loss: 562.4752 - val_loss: 553.0660\n",
      "Epoch 33/40\n",
      "120000/120000 [==============================] - 1s 8us/step - loss: 552.8847 - val_loss: 541.0353\n",
      "Epoch 34/40\n",
      "120000/120000 [==============================] - 1s 8us/step - loss: 540.1748 - val_loss: 536.3013\n",
      "Epoch 35/40\n",
      "120000/120000 [==============================] - 1s 8us/step - loss: 531.5781 - val_loss: 530.0742\n",
      "Epoch 36/40\n",
      "120000/120000 [==============================] - 1s 8us/step - loss: 521.2653 - val_loss: 515.1118\n",
      "Epoch 37/40\n",
      "120000/120000 [==============================] - 1s 8us/step - loss: 512.6669 - val_loss: 505.6123\n",
      "Epoch 38/40\n",
      "120000/120000 [==============================] - 1s 8us/step - loss: 502.0052 - val_loss: 495.5674\n",
      "Epoch 39/40\n",
      "120000/120000 [==============================] - 1s 8us/step - loss: 492.0517 - val_loss: 485.0980\n",
      "Epoch 40/40\n",
      "120000/120000 [==============================] - 1s 8us/step - loss: 481.5345 - val_loss: 473.1998\n",
      "Train on 120000 samples, validate on 6000 samples\n",
      "Epoch 1/40\n",
      "120000/120000 [==============================] - 4s 36us/step - loss: 21.7452 - delta_price_loss: 473.6991 - jb_qty_loss: 3.6372 - delta_qty_loss: 7.1964 - val_loss: -3.3534 - val_delta_price_loss: 473.1998 - val_jb_qty_loss: -0.8957 - val_delta_qty_loss: 0.2292\n",
      "Epoch 2/40\n",
      "120000/120000 [==============================] - 3s 24us/step - loss: -2.9431 - delta_price_loss: 473.6991 - jb_qty_loss: -0.6620 - delta_qty_loss: -0.2953 - val_loss: -4.5292 - val_delta_price_loss: 473.1998 - val_jb_qty_loss: -0.9441 - val_delta_qty_loss: -0.7529\n",
      "Epoch 3/40\n",
      "120000/120000 [==============================] - 3s 26us/step - loss: -3.9164 - delta_price_loss: 473.6991 - jb_qty_loss: -0.8279 - delta_qty_loss: -0.6047 - val_loss: -4.5104 - val_delta_price_loss: 473.1998 - val_jb_qty_loss: -0.9392 - val_delta_qty_loss: -0.7535\n",
      "Epoch 4/40\n",
      "120000/120000 [==============================] - 3s 24us/step - loss: -4.1884 - delta_price_loss: 473.6991 - jb_qty_loss: -0.8790 - delta_qty_loss: -0.6724 - val_loss: -4.5746 - val_delta_price_loss: 473.1998 - val_jb_qty_loss: -0.9494 - val_delta_qty_loss: -0.7769\n",
      "Epoch 5/40\n",
      "120000/120000 [==============================] - 3s 25us/step - loss: -4.3467 - delta_price_loss: 473.6991 - jb_qty_loss: -0.9088 - delta_qty_loss: -0.7114 - val_loss: -4.5665 - val_delta_price_loss: 473.1998 - val_jb_qty_loss: -0.9473 - val_delta_qty_loss: -0.7774\n",
      "Epoch 6/40\n",
      "120000/120000 [==============================] - 3s 25us/step - loss: -4.4197 - delta_price_loss: 473.6991 - jb_qty_loss: -0.9226 - delta_qty_loss: -0.7291 - val_loss: -4.4342 - val_delta_price_loss: 473.1998 - val_jb_qty_loss: -0.9136 - val_delta_qty_loss: -0.7797\n",
      "Epoch 7/40\n",
      "120000/120000 [==============================] - 3s 24us/step - loss: -4.4567 - delta_price_loss: 473.6991 - jb_qty_loss: -0.9286 - delta_qty_loss: -0.7424 - val_loss: -4.3998 - val_delta_price_loss: 473.1998 - val_jb_qty_loss: -0.9100 - val_delta_qty_loss: -0.7598\n",
      "Epoch 8/40\n",
      "120000/120000 [==============================] - 3s 24us/step - loss: -4.4945 - delta_price_loss: 473.6991 - jb_qty_loss: -0.9358 - delta_qty_loss: -0.7513 - val_loss: -4.5698 - val_delta_price_loss: 473.1998 - val_jb_qty_loss: -0.9448 - val_delta_qty_loss: -0.7906\n",
      "Epoch 9/40\n",
      "120000/120000 [==============================] - 3s 24us/step - loss: -4.5076 - delta_price_loss: 473.6991 - jb_qty_loss: -0.9376 - delta_qty_loss: -0.7572 - val_loss: -4.5827 - val_delta_price_loss: 473.1998 - val_jb_qty_loss: -0.9538 - val_delta_qty_loss: -0.7674\n",
      "Epoch 10/40\n",
      "120000/120000 [==============================] - 3s 25us/step - loss: -4.5236 - delta_price_loss: 473.6991 - jb_qty_loss: -0.9404 - delta_qty_loss: -0.7622 - val_loss: -4.4814 - val_delta_price_loss: 473.1998 - val_jb_qty_loss: -0.9234 - val_delta_qty_loss: -0.7879\n",
      "Epoch 11/40\n",
      "120000/120000 [==============================] - 3s 25us/step - loss: -4.5492 - delta_price_loss: 473.6991 - jb_qty_loss: -0.9458 - delta_qty_loss: -0.7660 - val_loss: -4.6269 - val_delta_price_loss: 473.1998 - val_jb_qty_loss: -0.9583 - val_delta_qty_loss: -0.7937\n",
      "Epoch 12/40\n",
      "120000/120000 [==============================] - 3s 25us/step - loss: -4.5529 - delta_price_loss: 473.6991 - jb_qty_loss: -0.9463 - delta_qty_loss: -0.7677 - val_loss: -4.6403 - val_delta_price_loss: 473.1998 - val_jb_qty_loss: -0.9615 - val_delta_qty_loss: -0.7942\n",
      "Epoch 13/40\n",
      "120000/120000 [==============================] - 3s 26us/step - loss: -4.5549 - delta_price_loss: 473.6991 - jb_qty_loss: -0.9465 - delta_qty_loss: -0.7691 - val_loss: -4.6400 - val_delta_price_loss: 473.1998 - val_jb_qty_loss: -0.9623 - val_delta_qty_loss: -0.7908\n",
      "Epoch 14/40\n",
      "120000/120000 [==============================] - 3s 25us/step - loss: -4.5526 - delta_price_loss: 473.6991 - jb_qty_loss: -0.9458 - delta_qty_loss: -0.7695 - val_loss: -4.4749 - val_delta_price_loss: 473.1998 - val_jb_qty_loss: -0.9196 - val_delta_qty_loss: -0.7966\n",
      "Epoch 15/40\n",
      "120000/120000 [==============================] - 3s 25us/step - loss: -4.5714 - delta_price_loss: 473.6991 - jb_qty_loss: -0.9498 - delta_qty_loss: -0.7722 - val_loss: -4.5802 - val_delta_price_loss: 473.1998 - val_jb_qty_loss: -0.9482 - val_delta_qty_loss: -0.7874\n",
      "Epoch 16/40\n",
      "120000/120000 [==============================] - 3s 25us/step - loss: -4.5772 - delta_price_loss: 473.6991 - jb_qty_loss: -0.9510 - delta_qty_loss: -0.7731 - val_loss: -4.6825 - val_delta_price_loss: 473.1998 - val_jb_qty_loss: -0.9711 - val_delta_qty_loss: -0.7982\n",
      "Epoch 17/40\n",
      "120000/120000 [==============================] - 3s 26us/step - loss: -4.5856 - delta_price_loss: 473.6991 - jb_qty_loss: -0.9521 - delta_qty_loss: -0.7771 - val_loss: -4.5490 - val_delta_price_loss: 473.1998 - val_jb_qty_loss: -0.9374 - val_delta_qty_loss: -0.7995\n",
      "Epoch 18/40\n",
      "120000/120000 [==============================] - 3s 26us/step - loss: -4.5832 - delta_price_loss: 473.6991 - jb_qty_loss: -0.9523 - delta_qty_loss: -0.7738 - val_loss: -4.5094 - val_delta_price_loss: 473.1998 - val_jb_qty_loss: -0.9264 - val_delta_qty_loss: -0.8037\n",
      "Epoch 19/40\n",
      "120000/120000 [==============================] - 3s 26us/step - loss: -4.5904 - delta_price_loss: 473.6991 - jb_qty_loss: -0.9535 - delta_qty_loss: -0.7764 - val_loss: -4.4691 - val_delta_price_loss: 473.1998 - val_jb_qty_loss: -0.9213 - val_delta_qty_loss: -0.7839\n",
      "Epoch 20/40\n",
      "120000/120000 [==============================] - 3s 26us/step - loss: -4.5860 - delta_price_loss: 473.6991 - jb_qty_loss: -0.9523 - delta_qty_loss: -0.7769 - val_loss: -4.5648 - val_delta_price_loss: 473.1998 - val_jb_qty_loss: -0.9446 - val_delta_qty_loss: -0.7862\n",
      "Epoch 21/40\n",
      "120000/120000 [==============================] - 3s 28us/step - loss: -4.5964 - delta_price_loss: 473.6991 - jb_qty_loss: -0.9554 - delta_qty_loss: -0.7747 - val_loss: -4.5467 - val_delta_price_loss: 473.1998 - val_jb_qty_loss: -0.9374 - val_delta_qty_loss: -0.7972\n",
      "{'delta_price_r2': 0.9673092137931939, 'jb_qty_sold_r2': 0.6971739729386561, 'delta_qty_sold_r2': 0.6665802521878669}\n"
     ]
    }
   ],
   "source": [
    "from sem_policy_opt.keras_models import get_keras_model, prep_for_keras_model\n",
    "from sem_policy_opt.diagnostics import r_squared\n",
    "\n",
    "train_x, train_y = prep_for_keras_model(train_data)\n",
    "val_x, val_y = prep_for_keras_model(val_data)\n",
    "predictive_model = get_keras_model(train_x, train_y, val_x, val_y, verbose=1)\n",
    "\n",
    "print(r_squared(predictive_model, val_data))"
   ]
  },
  {
   "cell_type": "markdown",
   "metadata": {},
   "source": [
    "# Step 3: Set Up Model-Based Market Simulator\n",
    "\n",
    "Now we create a market based not on the true data generating processes (which the firms don't know), but instead based on the predictive model.\n",
    "\n",
    "As a diagnostic, I compare predicted profits from using Jetblue's current pricing function in the training, validation and simulator data.\n",
    "\n",
    "There are important dynamics from outside the ML model used here.\n",
    "\n",
    "**TODO: DESCRIPTION OF STRUCTURAL EQUATION MODEL**"
   ]
  },
  {
   "cell_type": "code",
   "execution_count": null,
   "metadata": {},
   "outputs": [
    {
     "name": "stdout",
     "output_type": "stream",
     "text": [
      "Mean profits in training data: 41772.9686 \n",
      "Mean profits in val data: 40693.644 \n",
      "Mean profits in sim data: 44700.844000000005 \n",
      "\n"
     ]
    }
   ],
   "source": [
    "sim_market_conditions = CompetitiveConditions(predictive_model=predictive_model)\n",
    "# use function returning simulated market with baselines API to facilitate parallelism\n",
    "sim_market_maker = lambda: Market(sim_market_conditions, MAX_DEMAND_LEVEL, DEMAND_SIGNAL_NOISINESS, SEATS_PER_FLIGHT, SALES_WINDOW_LENGTH)\n",
    "noisy_sim_market_maker = lambda: Market(sim_market_conditions, MAX_DEMAND_LEVEL, DEMAND_SIGNAL_NOISINESS, SEATS_PER_FLIGHT, SALES_WINDOW_LENGTH, summarize_on_episode_end=True)\n",
    "sim_market = sim_market_maker()\n",
    "\n",
    "\n",
    "simple_price_sim_profits, simple_price_sim_data = run_env(sim_market, simple_price_fn, n_times=50)\n",
    "\n",
    "print(\"Mean profits in training data: {} \\n\"\n",
    "      \"Mean profits in val data: {} \\n\"\n",
    "      \"Mean profits in sim data: {} \\n\".format(train_profits.mean(), val_profits.mean(), simple_price_sim_profits.mean()))"
   ]
  },
  {
   "cell_type": "markdown",
   "metadata": {},
   "source": [
    "# Diagnostics and Experiment With Different Pricing Strategies\n",
    "\n",
    "We can use the simulator to test he performance of an arbitrary pricing function.\n",
    "\n",
    "As a simple experiemnt, we first estimate revenue per flight when multiplying all prices from the existing pricing function by various constants.\n",
    "\n",
    "Results shown below"
   ]
  },
  {
   "cell_type": "code",
   "execution_count": null,
   "metadata": {},
   "outputs": [
    {
     "name": "stdout",
     "output_type": "stream",
     "text": [
      "   base_price_mult  mean_predicted_rev  mean_actual_rev\n",
      "0             0.50          21841.4650        27399.960\n",
      "1             0.75          36694.1175        42105.585\n",
      "2             1.00          42980.7600        41950.420\n",
      "3             1.25          28345.4875        18446.600\n",
      "4             1.50          19223.0700        12850.560\n"
     ]
    },
    {
     "data": {
      "application/vnd.vegalite.v2+json": {
       "$schema": "https://vega.github.io/schema/vega-lite/v2.6.0.json",
       "config": {
        "view": {
         "height": 300,
         "width": 400
        }
       },
       "data": {
        "name": "data-c5db4831b93f557ddf17733c9058f162"
       },
       "datasets": {
        "data-c5db4831b93f557ddf17733c9058f162": [
         {
          "base_price_mult": 0.5,
          "mean_actual_rev": 27399.96,
          "mean_predicted_rev": 21841.465
         },
         {
          "base_price_mult": 0.75,
          "mean_actual_rev": 42105.585,
          "mean_predicted_rev": 36694.11749999999
         },
         {
          "base_price_mult": 1,
          "mean_actual_rev": 41950.42,
          "mean_predicted_rev": 42980.759999999995
         },
         {
          "base_price_mult": 1.25,
          "mean_actual_rev": 18446.6,
          "mean_predicted_rev": 28345.4875
         },
         {
          "base_price_mult": 1.5,
          "mean_actual_rev": 12850.559999999998,
          "mean_predicted_rev": 19223.07
         }
        ]
       },
       "encoding": {
        "color": {
         "field": "base_price_mult",
         "type": "quantitative"
        },
        "tooltip": {
         "field": "base_price_mult",
         "type": "quantitative"
        },
        "x": {
         "field": "mean_predicted_rev",
         "type": "quantitative"
        },
        "y": {
         "field": "mean_actual_rev",
         "type": "quantitative"
        }
       },
       "mark": "point"
      },
      "image/png": "[encoded data removed]",
      "text/plain": [
       "<VegaLite 2 object>\n",
       "\n",
       "If you see this message, it means the renderer has not been properly enabled\n",
       "for the frontend that you are using. For more information, see\n",
       "https://altair-viz.github.io/user_guide/troubleshooting.html\n"
      ]
     },
     "execution_count": 6,
     "metadata": {},
     "output_type": "execute_result"
    }
   ],
   "source": [
    "from sem_policy_opt.diagnostics import test_pricing_multipliers\n",
    "\n",
    "price_comparison = test_pricing_multipliers(simple_price_fn, np.linspace(0.5, 1.5, 5), sim_market, real_market)\n",
    "\n",
    "print(price_comparison)\n",
    "alt.Chart(price_comparison).mark_point().encode(\n",
    "    x='mean_predicted_rev',\n",
    "    y='mean_actual_rev',\n",
    "    color='base_price_mult',\n",
    "    tooltip='base_price_mult')\n"
   ]
  },
  {
   "cell_type": "markdown",
   "metadata": {},
   "source": [
    "We'll look at a couple more diagnostics before running a reinforcement learning algorithm to optimize our pricing function.\n",
    "\n",
    "Below, I show predicted quantities sold in a given day for various candidate jetblue prices (holding the number of days until the flight and Jetblue's demand signal constant.)"
   ]
  },
  {
   "cell_type": "code",
   "execution_count": null,
   "metadata": {},
   "outputs": [
    {
     "data": {
      "text/html": [
       "<div>\n",
       "<style scoped>\n",
       "    .dataframe tbody tr th:only-of-type {\n",
       "        vertical-align: middle;\n",
       "    }\n",
       "\n",
       "    .dataframe tbody tr th {\n",
       "        vertical-align: top;\n",
       "    }\n",
       "\n",
       "    .dataframe thead th {\n",
       "        text-align: right;\n",
       "    }\n",
       "</style>\n",
       "<table border=\"1\" class=\"dataframe\">\n",
       "  <thead>\n",
       "    <tr style=\"text-align: right;\">\n",
       "      <th></th>\n",
       "      <th>delta_price</th>\n",
       "      <th>delta_seats_sold</th>\n",
       "      <th>jetblue_seats_sold</th>\n",
       "    </tr>\n",
       "    <tr>\n",
       "      <th>jb_price</th>\n",
       "      <th></th>\n",
       "      <th></th>\n",
       "      <th></th>\n",
       "    </tr>\n",
       "  </thead>\n",
       "  <tbody>\n",
       "    <tr>\n",
       "      <th>0.0</th>\n",
       "      <td>14.747353</td>\n",
       "      <td>5.893674</td>\n",
       "      <td>4.920354</td>\n",
       "    </tr>\n",
       "    <tr>\n",
       "      <th>80.0</th>\n",
       "      <td>14.747353</td>\n",
       "      <td>9.276378</td>\n",
       "      <td>1.930285</td>\n",
       "    </tr>\n",
       "    <tr>\n",
       "      <th>160.0</th>\n",
       "      <td>14.747353</td>\n",
       "      <td>6.830469</td>\n",
       "      <td>0.012256</td>\n",
       "    </tr>\n",
       "    <tr>\n",
       "      <th>240.0</th>\n",
       "      <td>14.747353</td>\n",
       "      <td>9.096977</td>\n",
       "      <td>0.001522</td>\n",
       "    </tr>\n",
       "    <tr>\n",
       "      <th>320.0</th>\n",
       "      <td>14.747353</td>\n",
       "      <td>10.289557</td>\n",
       "      <td>0.000075</td>\n",
       "    </tr>\n",
       "    <tr>\n",
       "      <th>400.0</th>\n",
       "      <td>14.747353</td>\n",
       "      <td>7.228397</td>\n",
       "      <td>0.000002</td>\n",
       "    </tr>\n",
       "  </tbody>\n",
       "</table>\n",
       "</div>"
      ],
      "text/plain": [
       "          delta_price  delta_seats_sold  jetblue_seats_sold\n",
       "jb_price                                                   \n",
       "0.0         14.747353          5.893674            4.920354\n",
       "80.0        14.747353          9.276378            1.930285\n",
       "160.0       14.747353          6.830469            0.012256\n",
       "240.0       14.747353          9.096977            0.001522\n",
       "320.0       14.747353         10.289557            0.000075\n",
       "400.0       14.747353          7.228397            0.000002"
      ]
     },
     "execution_count": 7,
     "metadata": {},
     "output_type": "execute_result"
    }
   ],
   "source": [
    "days_before_flight = jb_demand_signal = 150\n",
    "pred_outcomes_diff_jb_prices = []\n",
    "for jb_price in np.linspace(0, MAX_DEMAND_LEVEL, 6):\n",
    "    # Some extra munging here do to messiness associated with multi-input / multi-output model.\n",
    "    # each input fed in as separate array to facilitate hiding jetblue_price from prediction of delta_price\n",
    "    prediction_data = prep_for_keras_model([days_before_flight, jb_demand_signal, jb_price], skip_y=True)\n",
    "    prediction = predictive_model.predict(prediction_data)\n",
    "    delta_price, jb_seats_sold, delta_seats_sold = [i[0][0] for i in prediction]\n",
    "    pred_outcomes_diff_jb_prices.append({'jb_price': jb_price,\n",
    "                                         'delta_price': delta_price,\n",
    "                                         'jetblue_seats_sold': jb_seats_sold,\n",
    "                                         'delta_seats_sold': delta_seats_sold})\n",
    "pd.DataFrame(pred_outcomes_diff_jb_prices).set_index(['jb_price'])"
   ]
  },
  {
   "cell_type": "markdown",
   "metadata": {},
   "source": [
    "It's reassuring that delta price is independent of **jb_price**. Delta must choose their price without seeing Jetblue's.  However, it's a shortcoming of the model that Delta is predicted to sell fewer seats as jetblue's price increases.\n",
    "\n",
    "Even with shortcomings in the model, we can optimize a pricing policy against the model and find it improves profits in the real environment."
   ]
  },
  {
   "cell_type": "markdown",
   "metadata": {},
   "source": [
    "# Step 4: Optimize Policy Function\n",
    "Everything below is currently in-progress. Looking at RL with the `stable_baselines` library, which is a better-maintained fork of OpenAI baselines."
   ]
  },
  {
   "cell_type": "code",
   "execution_count": null,
   "metadata": {},
   "outputs": [],
   "source": [
    "from stable_baselines.common.vec_env import DummyVecEnv\n",
    "from stable_baselines.sac.policies import MlpPolicy\n",
    "from stable_baselines.sac import SAC\n",
    "from time import time\n",
    "import os\n",
    "\n",
    "parallelism_level = 1         # use os.cpu_count() if not using SAC. SAC doesn't allow parallelism\n",
    "env = DummyVecEnv([sim_market_maker for _ in range(parallelism_level)]) # Env is vectorized market for parallelism\n",
    "\n",
    "model = SAC(MlpPolicy, env)\n",
    "\n",
    "def evaluate(model, num_episodes):\n",
    "  episode_rewards = [0.0]\n",
    "  obs = env.reset()\n",
    "  num_steps = num_episodes * SALES_WINDOW_LENGTH - 1\n",
    "  for i in range(num_steps):\n",
    "      action, _ = model.predict(obs)\n",
    "      # action, rewards and dones are arrays because we are using vectorized env\n",
    "      obs, rewards, dones, _ = env.step(action)\n",
    "      episode_rewards[-1] += rewards[0]\n",
    "      \n",
    "      if dones[0]:\n",
    "          obs = env.reset()\n",
    "          episode_rewards.append(0.0)\n",
    "  assert len(episode_rewards) == num_episodes\n",
    "  return round(np.mean(episode_rewards))\n",
    "\n",
    "\n",
    "start_time = time()\n",
    "for num_updates in range(1, 10):\n",
    "    model.learn(total_timesteps=10000)\n",
    "    mean_reward = evaluate(model, num_episodes=2)\n",
    "    print(\"\"\"{} learn calls executed in {:.0f} seconds. Current score in sim: {:.0f}\"\"\".format(num_updates, time()-start_time, mean_reward))"
   ]
  },
  {
   "cell_type": "markdown",
   "metadata": {},
   "source": [
    "## Details\n",
    "\n",
    "#### How The Market Works\n",
    "Some number of customers (`POTENTIAL_CUSTOMERS_PER_DAY`) come to a website each day.  The customers' average willingness to pay for a flight on that day `demand_level`. The `demand level` on any given day is chosen from a distribution `uniform(0, MAX_DEMAND_LEVEL)`.  Each airline receives a signal about `demand_level` on that day, and the signal is the `demand_level` plus some noise that is distributed `N(0, DEMAND_SIGNAL_NOISINESS)`. This demand signal might represent a prediction of demand from a model considering seasonality, macroeconomics, etc. Additionally, each customer has idiosyncratic preferences, so their willingness to pay for a ticket on any given airline is `demand_level + customer_preference` where `customer_preference` is distributed `N(0, CUSTOMER_LEVEL_RANDOMNESS)`.  The customer considers the price for each of the two airlines and purchases a ticket from the airline that gives them the highest consumer surplus (their personal willingness to pay minus for a ticket on that airline minus the cost of a ticket on that airline).  If the customer's consumer surplus for both airlines is negative, they do not buy a ticket.\n"
   ]
  }
 ],
 "metadata": {
  "kernelspec": {
   "display_name": "Python 3",
   "language": "python",
   "name": "python3"
  },
  "language_info": {
   "codemirror_mode": {
    "name": "ipython",
    "version": 3
   },
   "file_extension": ".py",
   "mimetype": "text/x-python",
   "name": "python",
   "nbconvert_exporter": "python",
   "pygments_lexer": "ipython3",
   "version": "3.6.7"
  }
 },
 "nbformat": 4,
 "nbformat_minor": 2
}
