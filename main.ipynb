{
 "cells": [
  {
   "cell_type": "markdown",
   "metadata": {},
   "source": [
    "# Intro\n",
    "\n",
    "Machine learning focuses on making accurate predictions. But we influence the world through decisions, not predictions. Predictions can be useful inputs to improve decision-making, but models that directly help us achieve goals will be more valuable than those that only make predictions.\n",
    "\n",
    "Reinforcement learning aims to solve for optimal decision-making, but most mainstream business problems look little like existing RL work. Moreover, most RL research intentionally avoids reliance on humans' existing domain knowledge. I take the opposite approach, and show how human chosen structure expands the scope of tractible applications of RL.\n",
    "\n",
    "My approach combines RL with Structural Equation Modeling, a technique that encodes human domain knowledge into a model (typically using multiple equations that describe different parts of the domain.)\n",
    "\n",
    "My workflow is:\n",
    "1. Use structural equation modeling to create a model of the business environment. \n",
    "2. Use real data to estimate the structural model\n",
    "3. Treat the estimated model as a simulation environment, and apply reinforcement learning algorithms to find an optimal the decision policy in the simulator\n",
    "4. Apply that decision policy to make optimized decisions in the real business environment\n",
    "\n",
    "The transfer from a simulation model to the data generating environment is inspired by [world models](https://arxiv.org/abs/1803.10122) while the use of structural equation models is standard in structural microeconometrics (the field of my PhD research).\n",
    "\n",
    "I believe the approach suggested here can improve how we make decisions in a wide range of business applications.\n",
    "\n",
    "# Example Use Cases\n",
    "\n",
    "### Airline Pricing\n",
    "Airlines use machine learning models to help set ticket prices. A model predicts how many tickets the airline can sell each day for each upcoming flight for each candidate price. The models consider price, seasonablity, competitor prices, macroeconomic variables, etc. But even a perfect predictive model doesn't guarantee efficient price setting.\n",
    "\n",
    "For example, consider a flight happening in 100 days which currently has 150 unsold seats. A predictive model says you can sell 1 ticket today for \\\\$300 or you could sell 2 tickets if you set the price at $250. Which price should you choose? \n",
    "\n",
    "Airlines currently convert predictive models into pricing decisions with heuristics (e.g. a timetable of how many tickets to sell at pre-specified periods before the flight, or a goal of selling up to a pre-specified demand elasticity.)\n",
    "\n",
    "### Grocery Store Logistics\n",
    "A grocery chain ran a [predictive modeling competition on Kaggle](https://www.kaggle.com/c/favorita-grocery-sales-forecasting) to improve demand forecasts. They aimed to stock match their purchases from wholesales to their retail sales. However, the predicted sales is not always the optimal amount to stock.\n",
    "\n",
    "If you purchase exactly the amount you are predicted to sell, you will experience frequent stockouts (when your model underestimates demand), reducing sales volume and disappointing customers.  Similarly, some items will spoil when predicted sales exceed actual sales. Unless the model is exactly correct every time, you face a tradeoff.  The optimal decision would consider factors like\n",
    "- Markup rate on each item\n",
    "- Spoilage rate\n",
    "- Cost of storage\n",
    "- Value of ensuring customers find the items they want\n",
    "- etc.\n",
    "\n",
    "In practice, grocery store managers likely guess at how to make these tradeoffs, much as they may have guessed at how much of each food they would sell before adopting ML. But the approach in this notebook would help them make better decisions.\n",
    "\n",
    "\n",
    "# Implemention Overview\n",
    "This notebook focuses on the Airline Pricing example.\n",
    "\n",
    "To illustrate the how resulting pricing policies perform in the original data generating environment, I use a simulation for the data generating process rather than using real data. Though I take a fixed dataset for trainng the predictive model in the conventional way. For illustrative simplicity, this example considers a market with only two airlines.\n",
    "\n",
    "## Market Set-Up\n",
    "We train an agent to set prices for Jetblue; the competitor, whose prices we cannot control, is called Delta. \n",
    "\n",
    "There are two types of information:\n",
    "1. Information and processes that are known to the airline (such as the number of seats on each flight, days remaining before takeoff, etc.).\n",
    "2. Information and processes that aren't directly know to the airlines (their competitor's pricing policy, and the exact demand for tickets on each day). \n",
    "\n",
    "The airline builds a model to predict factors they don't directly observe. Processes they don't directly observe are stored in a `CompetitiveConditions` object. When simulating data the real environment, I build a `CompetitiveConditions` from the true data generating process. When optimizing pricing, the airline use a `CompetitiveConditions` object based on their predictive model.\n",
    "\n",
    "The other important class in the following code is the `Market`. A `Market` object holds some `CompetitiveConditions` as well as all information that airlines can directly observe. \n",
    "\n",
    "`Market` follows the OpenAI Gym API. So we can apply standard reinforcement learning tools to optimize the pricing policy from our model based environment."
   ]
  },
  {
   "cell_type": "markdown",
   "metadata": {},
   "source": [
    "# Step 1: Collect Data From Real Market\n",
    "\n",
    "We define some parameters and import a function that determine the true data generating process. The exact market mechanisms (which the constants below affect) aren't central to the optimization workflow. So a description of the market details is postponed to the bottom of this notebook.\n",
    "\n",
    "For now, you can safely treat the quantity-determining mechanism and it's parameters as a black box, much as the airlines do."
   ]
  },
  {
   "cell_type": "code",
   "execution_count": 1,
   "metadata": {},
   "outputs": [],
   "source": [
    "from matplotlib import style\n",
    "import numpy as np\n",
    "import pandas as pd\n",
    "\n",
    "from sem_policy_opt.true_dgp import get_true_qty_demanded_fn\n",
    "\n",
    "style.use('fivethirtyeight')\n",
    "\n",
    "# Constants hidden from airlines\n",
    "CUSTOMER_LEVEL_RANDOMNESS = 20\n",
    "DEMAND_SIGNAL_NOISINESS = 10\n",
    "MAX_DEMAND_LEVEL = 400\n",
    "POTENTIAL_CUSTOMERS_PER_DAY = 20\n",
    "\n",
    "# Constants known to airlines\n",
    "SEATS_PER_FLIGHT = 250\n",
    "SALES_WINDOW_LENGTH = 120\n"
   ]
  },
  {
   "cell_type": "markdown",
   "metadata": {},
   "source": [
    "I used trial and error to find a reasonable pricing function. I use the following function for both airlines when creating \"real\" data."
   ]
  },
  {
   "cell_type": "code",
   "execution_count": 2,
   "metadata": {},
   "outputs": [],
   "source": [
    "def simple_price_fn(my_demand_signal, days_before_flight, my_seats_avail, competitor_full): \n",
    "    # Charge more if you have a lot of time to sell seats, if few seats are available, or if you have little competition\n",
    "    # On net, prices may increase over time because low seat inventory overwhelms remaining time effect.\n",
    "    formula_price = 50 + my_demand_signal + 0.6 * days_before_flight - my_seats_avail + 40 * int(competitor_full)\n",
    "    # demand_signal is noisy and can thus be negative. Never price tickets below some price_floor\n",
    "    price_floor = 10\n",
    "    actual_price = max(formula_price, price_floor)\n",
    "    return actual_price\n"
   ]
  },
  {
   "cell_type": "markdown",
   "metadata": {},
   "source": [
    "# Run Real Market\n",
    "\n",
    "Airlines have historical data they can use to build a model. Here, we run the \"real\" environment to create this data."
   ]
  },
  {
   "cell_type": "code",
   "execution_count": 3,
   "metadata": {},
   "outputs": [],
   "source": [
    "from sem_policy_opt.market import Market\n",
    "from sem_policy_opt.market_conditions import CompetitiveConditions\n",
    "from sem_policy_opt.diagnostics import run_env\n",
    "\n",
    "real_market_conditions = CompetitiveConditions(delta_price_fn = simple_price_fn, \n",
    "                                               qty_fn=get_true_qty_demanded_fn(POTENTIAL_CUSTOMERS_PER_DAY, CUSTOMER_LEVEL_RANDOMNESS))\n",
    "\n",
    "real_market = Market(real_market_conditions, MAX_DEMAND_LEVEL, DEMAND_SIGNAL_NOISINESS, SEATS_PER_FLIGHT, SALES_WINDOW_LENGTH) \n",
    "\n",
    "train_profits, train_data = run_env(real_market, simple_price_fn, n_times=1000)\n",
    "val_profits, val_data = run_env(real_market, simple_price_fn, n_times=50)"
   ]
  },
  {
   "cell_type": "markdown",
   "metadata": {},
   "source": [
    "# Step 2: Fit Machine Learning Model on Real Data\n",
    "\n",
    "We fit a model that predicts Delta's price and the quantity sold as a function of\n",
    "- Days remaining\n",
    "- Jetblue's demand signal\n",
    "- Jetblue's remaining number of seats available\n",
    "- Whether Delta's flight is fully booked (i.e. whether Delta is still selling tickets)\n"
   ]
  },
  {
   "cell_type": "code",
   "execution_count": 4,
   "metadata": {},
   "outputs": [
    {
     "name": "stdout",
     "output_type": "stream",
     "text": [
      "Train on 120000 samples, validate on 6000 samples\n",
      "Epoch 1/50\n",
      "120000/120000 [==============================] - 1s 12us/step - loss: 6336.9652 - val_loss: 1477.2059\n",
      "Epoch 2/50\n",
      "120000/120000 [==============================] - 1s 8us/step - loss: 1405.0966 - val_loss: 1395.1744\n",
      "Epoch 3/50\n",
      "120000/120000 [==============================] - 1s 8us/step - loss: 1345.8644 - val_loss: 1338.7875\n",
      "Epoch 4/50\n",
      "120000/120000 [==============================] - 1s 8us/step - loss: 1287.1738 - val_loss: 1275.1245\n",
      "Epoch 5/50\n",
      "120000/120000 [==============================] - 1s 8us/step - loss: 1223.1828 - val_loss: 1208.7799\n",
      "Epoch 6/50\n",
      "120000/120000 [==============================] - 1s 8us/step - loss: 1155.8280 - val_loss: 1137.9205\n",
      "Epoch 7/50\n",
      "120000/120000 [==============================] - 1s 7us/step - loss: 1086.0030 - val_loss: 1071.8640\n",
      "Epoch 8/50\n",
      "120000/120000 [==============================] - 1s 8us/step - loss: 1016.4598 - val_loss: 998.0087\n",
      "Epoch 9/50\n",
      "120000/120000 [==============================] - 1s 8us/step - loss: 950.4877 - val_loss: 936.1971\n",
      "Epoch 10/50\n",
      "120000/120000 [==============================] - 1s 8us/step - loss: 893.6624 - val_loss: 880.1468\n",
      "Epoch 11/50\n",
      "120000/120000 [==============================] - 1s 8us/step - loss: 846.3710 - val_loss: 841.0795\n",
      "Epoch 12/50\n",
      "120000/120000 [==============================] - 1s 8us/step - loss: 812.6122 - val_loss: 809.8741\n",
      "Epoch 13/50\n",
      "120000/120000 [==============================] - 1s 8us/step - loss: 787.8158 - val_loss: 792.5964\n",
      "Epoch 14/50\n",
      "120000/120000 [==============================] - 1s 8us/step - loss: 769.1380 - val_loss: 771.2236\n",
      "Epoch 15/50\n",
      "120000/120000 [==============================] - 1s 8us/step - loss: 755.5654 - val_loss: 765.4063\n",
      "Epoch 16/50\n",
      "120000/120000 [==============================] - 1s 8us/step - loss: 735.9412 - val_loss: 734.4494\n",
      "Epoch 17/50\n",
      "120000/120000 [==============================] - 1s 8us/step - loss: 721.3415 - val_loss: 719.3855\n",
      "Epoch 18/50\n",
      "120000/120000 [==============================] - 1s 8us/step - loss: 707.3668 - val_loss: 707.4883\n",
      "Epoch 19/50\n",
      "120000/120000 [==============================] - 1s 8us/step - loss: 693.5115 - val_loss: 694.6683\n",
      "Epoch 20/50\n",
      "120000/120000 [==============================] - 1s 8us/step - loss: 681.4014 - val_loss: 685.4718\n",
      "Epoch 21/50\n",
      "120000/120000 [==============================] - 1s 8us/step - loss: 671.1093 - val_loss: 672.7372\n",
      "Epoch 22/50\n",
      "120000/120000 [==============================] - 1s 8us/step - loss: 660.0904 - val_loss: 666.0562\n",
      "Epoch 23/50\n",
      "120000/120000 [==============================] - 1s 8us/step - loss: 650.0262 - val_loss: 657.6169\n",
      "Epoch 24/50\n",
      "120000/120000 [==============================] - 1s 8us/step - loss: 641.9624 - val_loss: 644.7628\n",
      "Epoch 25/50\n",
      "120000/120000 [==============================] - 1s 8us/step - loss: 636.1502 - val_loss: 641.8400\n",
      "Epoch 26/50\n",
      "120000/120000 [==============================] - 1s 8us/step - loss: 627.2987 - val_loss: 627.6733\n",
      "Epoch 27/50\n",
      "120000/120000 [==============================] - 1s 8us/step - loss: 619.6184 - val_loss: 625.3188\n",
      "Epoch 28/50\n",
      "120000/120000 [==============================] - 1s 8us/step - loss: 611.2507 - val_loss: 615.3416\n",
      "Epoch 29/50\n",
      "120000/120000 [==============================] - 1s 8us/step - loss: 604.1077 - val_loss: 606.5751\n",
      "Epoch 30/50\n",
      "120000/120000 [==============================] - 1s 8us/step - loss: 596.9895 - val_loss: 600.3418\n",
      "Epoch 31/50\n",
      "120000/120000 [==============================] - 1s 8us/step - loss: 588.4959 - val_loss: 595.0882\n",
      "Epoch 32/50\n",
      "120000/120000 [==============================] - 1s 8us/step - loss: 581.7127 - val_loss: 585.0656\n",
      "Epoch 33/50\n",
      "120000/120000 [==============================] - 1s 8us/step - loss: 576.1226 - val_loss: 580.0660\n",
      "Epoch 34/50\n",
      "120000/120000 [==============================] - 1s 8us/step - loss: 569.0854 - val_loss: 572.4457\n",
      "Epoch 35/50\n",
      "120000/120000 [==============================] - 1s 8us/step - loss: 561.7497 - val_loss: 572.9790\n",
      "Epoch 36/50\n",
      "120000/120000 [==============================] - 1s 10us/step - loss: 558.2529 - val_loss: 571.9322\n",
      "Epoch 37/50\n",
      "120000/120000 [==============================] - 1s 10us/step - loss: 551.1430 - val_loss: 573.7544\n",
      "Epoch 38/50\n",
      "120000/120000 [==============================] - 1s 10us/step - loss: 545.1128 - val_loss: 554.2384\n",
      "Epoch 39/50\n",
      "120000/120000 [==============================] - 1s 9us/step - loss: 539.5265 - val_loss: 546.1373\n",
      "Epoch 40/50\n",
      "120000/120000 [==============================] - 1s 11us/step - loss: 534.2470 - val_loss: 538.1439\n",
      "Epoch 41/50\n",
      "120000/120000 [==============================] - 1s 11us/step - loss: 528.1541 - val_loss: 532.5054\n",
      "Epoch 42/50\n",
      "120000/120000 [==============================] - 2s 13us/step - loss: 524.3096 - val_loss: 544.0943\n",
      "Epoch 43/50\n",
      "120000/120000 [==============================] - 1s 12us/step - loss: 521.0083 - val_loss: 528.7404\n",
      "Epoch 44/50\n",
      "120000/120000 [==============================] - 2s 14us/step - loss: 515.2165 - val_loss: 523.7544\n",
      "Epoch 45/50\n",
      "120000/120000 [==============================] - 1s 11us/step - loss: 509.2647 - val_loss: 518.4848\n",
      "Epoch 46/50\n",
      "120000/120000 [==============================] - 2s 13us/step - loss: 505.2302 - val_loss: 509.2359\n",
      "Epoch 47/50\n",
      "120000/120000 [==============================] - 1s 9us/step - loss: 503.7172 - val_loss: 504.9348\n",
      "Epoch 48/50\n",
      "120000/120000 [==============================] - 1s 9us/step - loss: 496.2149 - val_loss: 501.1265\n",
      "Epoch 49/50\n",
      "120000/120000 [==============================] - 1s 12us/step - loss: 492.5787 - val_loss: 497.2515\n",
      "Epoch 50/50\n",
      "120000/120000 [==============================] - 1s 12us/step - loss: 487.3814 - val_loss: 496.7794\n",
      "Train on 120000 samples, validate on 6000 samples\n",
      "Epoch 1/50\n",
      "120000/120000 [==============================] - 5s 41us/step - loss: 13.6533 - delta_price_loss: 487.2101 - jb_qty_loss: 2.3762 - delta_qty_loss: 4.1486 - val_loss: -3.9259 - val_delta_price_loss: 496.7794 - val_jb_qty_loss: -0.8085 - val_delta_qty_loss: -0.6918\n",
      "Epoch 2/50\n",
      "120000/120000 [==============================] - 3s 29us/step - loss: -3.2179 - delta_price_loss: 487.2101 - jb_qty_loss: -0.6704 - delta_qty_loss: -0.5365 - val_loss: -4.0743 - val_delta_price_loss: 496.7794 - val_jb_qty_loss: -0.8229 - val_delta_qty_loss: -0.7828\n",
      "Epoch 3/50\n",
      "120000/120000 [==============================] - 4s 30us/step - loss: -3.7980 - delta_price_loss: 487.2101 - jb_qty_loss: -0.7771 - delta_qty_loss: -0.6898 - val_loss: -4.0454 - val_delta_price_loss: 496.7794 - val_jb_qty_loss: -0.8146 - val_delta_qty_loss: -0.7871\n",
      "Epoch 4/50\n",
      "120000/120000 [==============================] - 4s 29us/step - loss: -3.9335 - delta_price_loss: 487.2101 - jb_qty_loss: -0.8032 - delta_qty_loss: -0.7206 - val_loss: -4.0133 - val_delta_price_loss: 496.7794 - val_jb_qty_loss: -0.8021 - val_delta_qty_loss: -0.8050\n",
      "Epoch 5/50\n",
      "120000/120000 [==============================] - 4s 32us/step - loss: -4.0031 - delta_price_loss: 487.2101 - jb_qty_loss: -0.8159 - delta_qty_loss: -0.7396 - val_loss: -4.0745 - val_delta_price_loss: 496.7794 - val_jb_qty_loss: -0.8158 - val_delta_qty_loss: -0.8114\n",
      "Epoch 6/50\n",
      "120000/120000 [==============================] - 4s 31us/step - loss: -4.0636 - delta_price_loss: 487.2101 - jb_qty_loss: -0.8272 - delta_qty_loss: -0.7549 - val_loss: -4.1007 - val_delta_price_loss: 496.7794 - val_jb_qty_loss: -0.8222 - val_delta_qty_loss: -0.8118\n",
      "Epoch 7/50\n",
      "120000/120000 [==============================] - 3s 26us/step - loss: -4.0920 - delta_price_loss: 487.2101 - jb_qty_loss: -0.8314 - delta_qty_loss: -0.7666 - val_loss: -4.0530 - val_delta_price_loss: 496.7794 - val_jb_qty_loss: -0.8119 - val_delta_qty_loss: -0.8054\n",
      "Epoch 8/50\n",
      "120000/120000 [==============================] - 3s 25us/step - loss: -4.1269 - delta_price_loss: 487.2101 - jb_qty_loss: -0.8377 - delta_qty_loss: -0.7760 - val_loss: -4.0860 - val_delta_price_loss: 496.7794 - val_jb_qty_loss: -0.8209 - val_delta_qty_loss: -0.8024\n",
      "Epoch 9/50\n",
      "120000/120000 [==============================] - 3s 28us/step - loss: -4.1407 - delta_price_loss: 487.2101 - jb_qty_loss: -0.8393 - delta_qty_loss: -0.7835 - val_loss: -4.1475 - val_delta_price_loss: 496.7794 - val_jb_qty_loss: -0.8354 - val_delta_qty_loss: -0.8059\n",
      "Epoch 10/50\n",
      "120000/120000 [==============================] - 3s 27us/step - loss: -4.1652 - delta_price_loss: 487.2101 - jb_qty_loss: -0.8446 - delta_qty_loss: -0.7867 - val_loss: -4.1412 - val_delta_price_loss: 496.7794 - val_jb_qty_loss: -0.8311 - val_delta_qty_loss: -0.8166\n",
      "Epoch 11/50\n",
      "120000/120000 [==============================] - 3s 25us/step - loss: -4.1683 - delta_price_loss: 487.2101 - jb_qty_loss: -0.8444 - delta_qty_loss: -0.7908 - val_loss: -4.0817 - val_delta_price_loss: 496.7794 - val_jb_qty_loss: -0.8199 - val_delta_qty_loss: -0.8020\n",
      "Epoch 12/50\n",
      "120000/120000 [==============================] - 3s 26us/step - loss: -4.1871 - delta_price_loss: 487.2101 - jb_qty_loss: -0.8489 - delta_qty_loss: -0.7914 - val_loss: -4.0598 - val_delta_price_loss: 496.7794 - val_jb_qty_loss: -0.8116 - val_delta_qty_loss: -0.8134\n",
      "Epoch 13/50\n",
      "120000/120000 [==============================] - 3s 28us/step - loss: -4.1945 - delta_price_loss: 487.2101 - jb_qty_loss: -0.8498 - delta_qty_loss: -0.7952 - val_loss: -4.0028 - val_delta_price_loss: 496.7794 - val_jb_qty_loss: -0.8031 - val_delta_qty_loss: -0.7905\n",
      "Epoch 14/50\n",
      "120000/120000 [==============================] - 3s 27us/step - loss: -4.1999 - delta_price_loss: 487.2101 - jb_qty_loss: -0.8504 - delta_qty_loss: -0.7984 - val_loss: -3.9564 - val_delta_price_loss: 496.7794 - val_jb_qty_loss: -0.7867 - val_delta_qty_loss: -0.8095\n",
      "{'delta_price_r2': 0.9649906955463357, 'jb_qty_sold_r2': 0.6757102523463869, 'delta_qty_sold_r2': 0.663848343125911}\n"
     ]
    }
   ],
   "source": [
    "from sem_policy_opt.keras_models import get_keras_model, prep_for_keras_model\n",
    "from sem_policy_opt.diagnostics import r_squared\n",
    "\n",
    "train_x, train_y = prep_for_keras_model(train_data)\n",
    "val_x, val_y = prep_for_keras_model(val_data)\n",
    "predictive_model = get_keras_model(train_x, train_y, val_x, val_y, verbose=1)\n",
    "\n",
    "print(r_squared(predictive_model, val_data))"
   ]
  },
  {
   "cell_type": "markdown",
   "metadata": {},
   "source": [
    "# Step 3: Set Up Model-Based Market Simulator\n",
    "\n",
    "Now we create a market based not on the true data generating processes (which the firms don't know), but instead based on the predictive model.\n",
    "\n",
    "As a diagnostic, I compare predicted profits from using Jetblue's current pricing function in the training, validation and simulator data.\n",
    "\n",
    "There are important dynamics from outside the ML model used here.\n",
    "\n",
    "**TODO: DESCRIPTION OF STRUCTURAL EQUATION MODEL**"
   ]
  },
  {
   "cell_type": "code",
   "execution_count": 5,
   "metadata": {},
   "outputs": [
    {
     "name": "stdout",
     "output_type": "stream",
     "text": [
      "Mean profits in training data: 42346.554 \n",
      "Mean profits in val data: 43048.295999999995 \n",
      "Mean profits in sim data: 46001.26 \n",
      "\n"
     ]
    }
   ],
   "source": [
    "sim_market_conditions = CompetitiveConditions(predictive_model=predictive_model)\n",
    "# use function returning simulated market with baselines API to facilitate parallelism\n",
    "sim_market_maker = lambda: Market(sim_market_conditions, MAX_DEMAND_LEVEL, DEMAND_SIGNAL_NOISINESS, SEATS_PER_FLIGHT, SALES_WINDOW_LENGTH)\n",
    "noisy_sim_market_maker = lambda: Market(sim_market_conditions, MAX_DEMAND_LEVEL, DEMAND_SIGNAL_NOISINESS, SEATS_PER_FLIGHT, SALES_WINDOW_LENGTH, summarize_on_episode_end=True)\n",
    "sim_market = sim_market_maker()\n",
    "\n",
    "\n",
    "simple_price_sim_profits, simple_price_sim_data = run_env(sim_market, simple_price_fn, n_times=50)\n",
    "\n",
    "print(\"Mean profits in training data: {} \\n\"\n",
    "      \"Mean profits in val data: {} \\n\"\n",
    "      \"Mean profits in sim data: {} \\n\".format(train_profits.mean(), val_profits.mean(), simple_price_sim_profits.mean()))"
   ]
  },
  {
   "cell_type": "markdown",
   "metadata": {},
   "source": [
    "# Diagnostics and Experiment With Different Pricing Strategies\n",
    "\n",
    "We can use the simulator to test he performance of an arbitrary pricing function.\n",
    "\n",
    "As a simple experiemnt, we first estimate revenue per flight when multiplying all prices from the existing pricing function by various constants.\n",
    "\n",
    "Results shown below"
   ]
  },
  {
   "cell_type": "code",
   "execution_count": 6,
   "metadata": {},
   "outputs": [
    {
     "name": "stdout",
     "output_type": "stream",
     "text": [
      "   base_price_mult  mean_predicted_rev  mean_actual_rev\n",
      "0             0.50          19691.1600       30347.6600\n",
      "1             0.75          36108.6225       46608.6525\n",
      "2             1.00          46804.3700       41435.3400\n",
      "3             1.25          31490.0750       17996.9125\n",
      "4             1.50          20692.7550       11872.4550\n"
     ]
    },
    {
     "data": {
      "application/vnd.vegalite.v2+json": {
       "$schema": "https://vega.github.io/schema/vega-lite/v2.6.0.json",
       "config": {
        "view": {
         "height": 300,
         "width": 400
        }
       },
       "data": {
        "name": "data-4d3ea74d4382e0d0547e7fb22faced3a"
       },
       "datasets": {
        "data-4d3ea74d4382e0d0547e7fb22faced3a": [
         {
          "base_price_mult": 0.5,
          "mean_actual_rev": 30347.659999999993,
          "mean_predicted_rev": 19691.160000000003
         },
         {
          "base_price_mult": 0.75,
          "mean_actual_rev": 46608.652500000004,
          "mean_predicted_rev": 36108.6225
         },
         {
          "base_price_mult": 1,
          "mean_actual_rev": 41435.34,
          "mean_predicted_rev": 46804.37
         },
         {
          "base_price_mult": 1.25,
          "mean_actual_rev": 17996.9125,
          "mean_predicted_rev": 31490.075
         },
         {
          "base_price_mult": 1.5,
          "mean_actual_rev": 11872.455,
          "mean_predicted_rev": 20692.754999999997
         }
        ]
       },
       "encoding": {
        "color": {
         "field": "base_price_mult",
         "type": "quantitative"
        },
        "tooltip": {
         "field": "base_price_mult",
         "type": "quantitative"
        },
        "x": {
         "field": "mean_predicted_rev",
         "type": "quantitative"
        },
        "y": {
         "field": "mean_actual_rev",
         "type": "quantitative"
        }
       },
       "mark": "point"
      },
      "image/png": "[encoded data removed]",
      "text/plain": [
       "<VegaLite 2 object>\n",
       "\n",
       "If you see this message, it means the renderer has not been properly enabled\n",
       "for the frontend that you are using. For more information, see\n",
       "https://altair-viz.github.io/user_guide/troubleshooting.html\n"
      ]
     },
     "execution_count": 6,
     "metadata": {},
     "output_type": "execute_result"
    }
   ],
   "source": [
    "from sem_policy_opt.diagnostics import test_pricing_multipliers\n",
    "\n",
    "price_comparison = test_pricing_multipliers(simple_price_fn, np.linspace(0.5, 1.5, 5), sim_market, real_market)\n",
    "\n",
    "print(price_comparison)\n",
    "price_comparison.plot.scatter(x='mean_predicted_rev', y='mean_actual_rev', c='base_price_mult', colormap='viridis')"
   ]
  },
  {
   "cell_type": "markdown",
   "metadata": {},
   "source": [
    "We'll look at a couple more diagnostics before running a reinforcement learning algorithm to optimize our pricing function.\n",
    "\n",
    "Below, I show predicted quantities sold in a given day for various candidate jetblue prices (holding the number of days until the flight and Jetblue's demand signal constant.)"
   ]
  },
  {
   "cell_type": "code",
   "execution_count": 7,
   "metadata": {},
   "outputs": [
    {
     "data": {
      "text/html": [
       "<div>\n",
       "<style scoped>\n",
       "    .dataframe tbody tr th:only-of-type {\n",
       "        vertical-align: middle;\n",
       "    }\n",
       "\n",
       "    .dataframe tbody tr th {\n",
       "        vertical-align: top;\n",
       "    }\n",
       "\n",
       "    .dataframe thead th {\n",
       "        text-align: right;\n",
       "    }\n",
       "</style>\n",
       "<table border=\"1\" class=\"dataframe\">\n",
       "  <thead>\n",
       "    <tr style=\"text-align: right;\">\n",
       "      <th></th>\n",
       "      <th>delta_price</th>\n",
       "      <th>delta_seats_sold</th>\n",
       "      <th>jetblue_seats_sold</th>\n",
       "    </tr>\n",
       "    <tr>\n",
       "      <th>jb_price</th>\n",
       "      <th></th>\n",
       "      <th></th>\n",
       "      <th></th>\n",
       "    </tr>\n",
       "  </thead>\n",
       "  <tbody>\n",
       "    <tr>\n",
       "      <th>0.0</th>\n",
       "      <td>95.155464</td>\n",
       "      <td>4.355658</td>\n",
       "      <td>7.211332e+00</td>\n",
       "    </tr>\n",
       "    <tr>\n",
       "      <th>80.0</th>\n",
       "      <td>95.155464</td>\n",
       "      <td>7.873433</td>\n",
       "      <td>8.051653e+00</td>\n",
       "    </tr>\n",
       "    <tr>\n",
       "      <th>160.0</th>\n",
       "      <td>95.155464</td>\n",
       "      <td>1.414107</td>\n",
       "      <td>5.687105e-01</td>\n",
       "    </tr>\n",
       "    <tr>\n",
       "      <th>240.0</th>\n",
       "      <td>95.155464</td>\n",
       "      <td>1.252790</td>\n",
       "      <td>3.582168e-02</td>\n",
       "    </tr>\n",
       "    <tr>\n",
       "      <th>320.0</th>\n",
       "      <td>95.155464</td>\n",
       "      <td>0.019183</td>\n",
       "      <td>1.128848e-04</td>\n",
       "    </tr>\n",
       "    <tr>\n",
       "      <th>400.0</th>\n",
       "      <td>95.155464</td>\n",
       "      <td>0.000039</td>\n",
       "      <td>1.898603e-07</td>\n",
       "    </tr>\n",
       "  </tbody>\n",
       "</table>\n",
       "</div>"
      ],
      "text/plain": [
       "          delta_price  delta_seats_sold  jetblue_seats_sold\n",
       "jb_price                                                   \n",
       "0.0         95.155464          4.355658        7.211332e+00\n",
       "80.0        95.155464          7.873433        8.051653e+00\n",
       "160.0       95.155464          1.414107        5.687105e-01\n",
       "240.0       95.155464          1.252790        3.582168e-02\n",
       "320.0       95.155464          0.019183        1.128848e-04\n",
       "400.0       95.155464          0.000039        1.898603e-07"
      ]
     },
     "execution_count": 7,
     "metadata": {},
     "output_type": "execute_result"
    }
   ],
   "source": [
    "days_before_flight = jb_demand_signal = 100\n",
    "pred_outcomes_diff_jb_prices = []\n",
    "for jb_price in np.linspace(0, MAX_DEMAND_LEVEL, 6):\n",
    "    # Some extra munging here do to messiness associated with multi-input / multi-output model.\n",
    "    # each input fed in as separate array to facilitate hiding jetblue_price from prediction of delta_price\n",
    "    prediction_data = prep_for_keras_model([days_before_flight, jb_demand_signal, jb_price], skip_y=True)\n",
    "    prediction = predictive_model.predict(prediction_data)\n",
    "    delta_price, jb_seats_sold, delta_seats_sold = [i[0][0] for i in prediction]\n",
    "    pred_outcomes_diff_jb_prices.append({'jb_price': jb_price,\n",
    "                                         'delta_price': delta_price,\n",
    "                                         'jetblue_seats_sold': jb_seats_sold,\n",
    "                                         'delta_seats_sold': delta_seats_sold})\n",
    "pd.DataFrame(pred_outcomes_diff_jb_prices).set_index(['jb_price'])"
   ]
  },
  {
   "cell_type": "markdown",
   "metadata": {},
   "source": [
    "It's reassuring that delta price is independent of **jb_price**. Delta must choose their price without seeing Jetblue's.  However, it's a shortcoming of the model that Delta is predicted to sell fewer seats as jetblue's price increases.\n",
    "\n",
    "Even with shortcomings in the model, we can optimize a pricing policy against the model and find it improves profits in the real environment."
   ]
  },
  {
   "cell_type": "markdown",
   "metadata": {},
   "source": [
    "# Step 4: Optimize Policy Function\n",
    "Everything below is currently in-progress. Looking at RL with the `stable_baselines` library, which is a better-maintained fork of OpenAI baselines."
   ]
  },
  {
   "cell_type": "code",
   "execution_count": 43,
   "metadata": {},
   "outputs": [
    {
     "name": "stdout",
     "output_type": "stream",
     "text": [
      "0 timesteps used for learning in 46 seconds. \n",
      "             Current score in sim: 21200. Current score in real market: 17920.\n",
      "5000 timesteps used for learning in 92 seconds. \n",
      "             Current score in sim: 19280. Current score in real market: 18000.\n",
      "10000 timesteps used for learning in 132 seconds. \n",
      "             Current score in sim: 18400. Current score in real market: 16480.\n",
      "15000 timesteps used for learning in 173 seconds. \n",
      "             Current score in sim: 18480. Current score in real market: 15200.\n",
      "20000 timesteps used for learning in 213 seconds. \n",
      "             Current score in sim: 20320. Current score in real market: 21520.\n",
      "25000 timesteps used for learning in 253 seconds. \n",
      "             Current score in sim: 24320. Current score in real market: 18320.\n",
      "30000 timesteps used for learning in 294 seconds. \n",
      "             Current score in sim: 19840. Current score in real market: 15840.\n",
      "35000 timesteps used for learning in 334 seconds. \n",
      "             Current score in sim: 20160. Current score in real market: 14800.\n",
      "40000 timesteps used for learning in 375 seconds. \n",
      "             Current score in sim: 23600. Current score in real market: 25520.\n",
      "45000 timesteps used for learning in 415 seconds. \n",
      "             Current score in sim: 19280. Current score in real market: 18560.\n",
      "50000 timesteps used for learning in 455 seconds. \n",
      "             Current score in sim: 18080. Current score in real market: 19040.\n",
      "55000 timesteps used for learning in 496 seconds. \n",
      "             Current score in sim: 20880. Current score in real market: 13840.\n",
      "60000 timesteps used for learning in 536 seconds. \n",
      "             Current score in sim: 21280. Current score in real market: 19040.\n",
      "65000 timesteps used for learning in 576 seconds. \n",
      "             Current score in sim: 17200. Current score in real market: 15600.\n",
      "70000 timesteps used for learning in 621 seconds. \n",
      "             Current score in sim: 22080. Current score in real market: 11040.\n",
      "75000 timesteps used for learning in 668 seconds. \n",
      "             Current score in sim: 16800. Current score in real market: 19360.\n"
     ]
    },
    {
     "data": {
      "text/plain": [
       "<matplotlib.axes._subplots.AxesSubplot at 0x1c3aca6780>"
      ]
     },
     "execution_count": 43,
     "metadata": {},
     "output_type": "execute_result"
    },
    {
     "data": {
      "image/png": "[encoded data removed]",
      "text/plain": [
       "<Figure size 432x288 with 1 Axes>"
      ]
     },
     "metadata": {},
     "output_type": "display_data"
    }
   ],
   "source": [
    "from stable_baselines.common.vec_env import DummyVecEnv\n",
    "from stable_baselines.sac.policies import MlpPolicy\n",
    "from stable_baselines.sac import SAC\n",
    "from time import time\n",
    "import os\n",
    "\n",
    "parallelism_level = 1         # use os.cpu_count() if not using SAC. SAC doesn't allow parallelism\n",
    "env = DummyVecEnv([sim_market_maker for _ in range(parallelism_level)]) # Env is vectorized market for parallelism\n",
    "total_learning_steps = 75000\n",
    "steps_per_update = 5000\n",
    "optim_results = []\n",
    "\n",
    "\n",
    "model = SAC(MlpPolicy, env)\n",
    "\n",
    "start_time = time()\n",
    "for step in range(0, total_learning_steps+1, steps_per_update):\n",
    "    model.learn(total_timesteps=steps_per_update)\n",
    "    \n",
    "    mean_sim_reward = run_env(sim_market, model, n_times=5)[0].mean()\n",
    "    mean_real_reward = run_env(real_market, model, n_times=5)[0].mean()\n",
    "    optim_results.append(dict(step=step, sim_profit=mean_sim_reward, real_profit=mean_real_reward))\n",
    "    \n",
    "    print(\"\"\"{} timesteps used for learning in {:.0f} seconds. \n",
    "             Current score in sim: {:.0f}. Current score in real market: {:.0f}.\"\"\".format(\n",
    "                                                                                step,\n",
    "                                                                                time()-start_time, \n",
    "                                                                                mean_sim_reward, \n",
    "                                                                                mean_real_reward))\n",
    "optim_results_df = pd.DataFrame(optim_results)\n",
    "optim_results_df.plot.line(x='step', y=['sim_profit', 'real_profit'])"
   ]
  },
  {
   "cell_type": "markdown",
   "metadata": {},
   "source": [
    "## Details\n",
    "\n",
    "#### How The Market Works\n",
    "Some number of customers (`POTENTIAL_CUSTOMERS_PER_DAY`) come to a website each day.  The customers' average willingness to pay for a flight on that day `demand_level`. The `demand level` on any given day is chosen from a distribution `uniform(0, MAX_DEMAND_LEVEL)`.  Each airline receives a signal about `demand_level` on that day, and the signal is the `demand_level` plus some noise that is distributed `N(0, DEMAND_SIGNAL_NOISINESS)`. This demand signal might represent a prediction of demand from a model considering seasonality, macroeconomics, etc. Additionally, each customer has idiosyncratic preferences, so their willingness to pay for a ticket on any given airline is `demand_level + customer_preference` where `customer_preference` is distributed `N(0, CUSTOMER_LEVEL_RANDOMNESS)`.  The customer considers the price for each of the two airlines and purchases a ticket from the airline that gives them the highest consumer surplus (their personal willingness to pay minus for a ticket on that airline minus the cost of a ticket on that airline).  If the customer's consumer surplus for both airlines is negative, they do not buy a ticket.\n"
   ]
  }
 ],
 "metadata": {
  "kernelspec": {
   "display_name": "Python 3",
   "language": "python",
   "name": "python3"
  },
  "language_info": {
   "codemirror_mode": {
    "name": "ipython",
    "version": 3
   },
   "file_extension": ".py",
   "mimetype": "text/x-python",
   "name": "python",
   "nbconvert_exporter": "python",
   "pygments_lexer": "ipython3",
   "version": "3.6.7"
  }
 },
 "nbformat": 4,
 "nbformat_minor": 2
}
