{
 "cells": [
  {
   "cell_type": "markdown",
   "metadata": {},
   "source": [
    "# Intro\n",
    "\n",
    "Supervised machine learning focuses on making accurate predictions. But we influence the world through decisions, not predictions. Predictions can be useful inputs to improve decision-making, but models that effectively optimized actions will be more valuable than those that only make predictions.\n",
    "\n",
    "Reinforcement learning (RL) directly optimizes decision-making, but the RL community has primarily focused on problems (e.g. robotics and video games) that are very different from where most businesses are applying data science. \n",
    "\n",
    "This notebook illustrates a workflow I believe is appropriate for creating optimal decisions to today's mainstream business problems. In this workflow, the practitioner encodes domain knowledge into a structural model (the name being derived from the field of Structural Econometrics). The structural model includes multiple equations to describe different parts of the business problem, and it explicitly describes temporal dynamics.\n",
    "\n",
    "The workflow is:\n",
    "1. Use domain knowledge to specify a structural model describing a business problem.\n",
    "2. Use pre-existing data to estimate unknown parts or parameters of the structural model\n",
    "3. Treat the estimated model as a simulation environment, and use conventional optimization techniques to optimize the decision policy in the simulator\n",
    "4. Apply that decision policy to make optimized decisions in the real business environment\n",
    "\n",
    "> This workflow differs from model-based reinforcement learning, because it doesn't update the model of the environment during policy optimization. Instead, my workflow is similar to [World Models](https://arxiv.org/abs/1803.10122). My approach differs from World Models by having a human specify the structural model rather than deriving directly from a complex deep learning model. World Models uses video games as a testbed, and my approach would fail in that application because humans have little intuition in the pixel space. But human knowledge is beneficial as a regularizer in domains where we have good intuition.\n",
    "\n",
    "# Example Use Cases\n",
    "\n",
    "### Airline Pricing\n",
    "Airlines already use machine learning models to help set ticket prices. The ML model predicts how many tickets the airline can sell each day for each upcoming flight for each candidate price. The models consider price, seasonablity, competitor prices, macroeconomic variables, etc. But even a perfect predictive model doesn't guarantee efficient price setting.\n",
    "\n",
    "For example, consider a flight happening in 100 days which currently has 150 unsold seats. A predictive model says you can sell 1 ticket today for \\\\$300 or you could sell 2 tickets if you set the price at $250. Which price should you choose? \n",
    "\n",
    "Airlines currently convert predictive models into pricing decisions with heuristics (e.g. a timetable of how many tickets to sell at pre-specified periods before the flight, or a goal of selling up to a pre-specified demand elasticity.)\n",
    "\n",
    "I believe formal optimization promises a major improvement over these rule-of-thumb approaches.\n",
    "\n",
    "### Grocery Store Logistics\n",
    "A grocery chain ran a [predictive modeling competition on Kaggle](https://www.kaggle.com/c/favorita-grocery-sales-forecasting) to improve demand forecasts. They aimed to stock match their purchases from wholesales to their retail sales. However, the predicted sales is not always the optimal amount to stock.\n",
    "\n",
    "If you purchase exactly the amount you are predicted to sell, you will experience frequent stockouts (when your model underestimates demand), reducing sales volume and disappointing customers.  Similarly, some items will spoil when predicted sales exceed actual sales. Unless the model is exactly correct every time, you face a tradeoff.  The optimal decision would consider factors like\n",
    "- Markup rate on each item\n",
    "- Spoilage rate\n",
    "- Cost of storage\n",
    "- Value of ensuring customers find the items they want\n",
    "- etc.\n",
    "\n",
    "In practice, grocery store managers likely guess at how to make these tradeoffs, much as they may have guessed at how much of each food they would sell before adopting ML. But the approach in this notebook would help them make better decisions.\n",
    "\n",
    "\n",
    "# Implemention Overview\n",
    "This notebook focuses on the Airline Pricing example. Specifically, I train an agent to set prices for Jetblue. The competitor, whose prices we cannot control, is called Delta. \n",
    "\n",
    "To illustrate the how resulting pricing policies perform in the original data generating environment, I use a simulation for the data generating process rather than using real data. Though I take a fixed dataset for trainng the predictive model in the conventional way. For illustrative simplicity, this example considers a market with only two airlines.\n",
    "\n",
    "# The Tale of Two Models (and How They Plug Together)\n",
    "\n",
    "I use two models:\n",
    "A **structural model** defines workings of the market that a domain expert can specify. The structural model used in this example is straightforward. \n",
    "\n",
    "Each flight starts with a fixed number of available seats and a fixed number of days to departure. \n",
    "\n",
    "Each day until the flight happens\n",
    "- airlines can update the ticket price daily\n",
    "- the number of seats available decreases by the number of seats that airline sells\n",
    "- the number of days until the flight decreases by 1\n",
    "- accumulated revenue for the flight increases by `ticket_price * seats_sold`\n",
    "- airlines cannot sell more seats than the plane has, and sales stop when the plane takes off (this model ignores overbooking, though someone more knowledgeable might add it to the model)\n",
    "\n",
    "[This code](https://github.com/dansbecker/sem_policy_opt/blob/master/sem_policy_opt/market.py#L45) shows this logic more concretely.\n",
    "\n",
    "The **predictive model** captures things the airline doesn't know with any certainty:\n",
    "- How their competitor sets prices\n",
    "- How many seats each airline will sell on each day (as a function of daily demand shocks and each airline's price)\n",
    "\n",
    "The predictive model used here is a [deep learning model](https://github.com/dansbecker/sem_policy_opt/blob/master/sem_policy_opt/keras_models.py#L22). The structural model is completely deterministic once it receives the predictions from the predictive model.\n",
    "\n",
    "> Aside: Structural econometrics has historically incorporated all uncertainty into the structural model, and not used a separate predictive model. This requires specifying all functional forms in the model and estimating those parameters directly (e.g. with maximum likelihood estimation). That workflow has the shortcomings of standard GLM style modeling ((poor predictive accuracy due to underfitting). Abstracting the sources of uncertainty into a separate predictive model allows the flexibility to use modern ML.\n",
    "\n",
    "> Second Aside: I explored representing the structural and predictive models together using PyMC3. This allow estimating full Bayesian posteriors. This has a potentially large benefit for decision optimization (related to Jensen's inequality). I found it difficult to simulate market dynamics in PyMC3. I'll revisit this, likely after the release of PyMC4.\n",
    "\n",
    "The code captures the two models in two objects:\n",
    "- A `CompetitiveConditions` object contains the predictive model. It captures pricing strategies and the process for determining how many tickets are sold. When generating training data, the `CompetitiveConditions` object holds the true data generating process for pricing and quantity determination (rather than a predictive model). The data generating is unlike the predictive models that approximate it. Details of the data generating process for price and quantity determination aren't central to my workflow, so their description is saved for the end of this notebook.\n",
    "\n",
    "- A `Market` object contains the logic for the structural model. The `market` object takes `CompetitiveConditions` as an argument, so predictions about market dynamics can be plugged into the structural model.\n",
    "\n",
    "`Market` follows the standard OpenAI Gym API, so standard RL tools can be used to optimize pricing policies in our model based environment."
   ]
  },
  {
   "cell_type": "markdown",
   "metadata": {},
   "source": [
    "# Step 1: Collect Data From Real Market\n",
    "\n",
    "I define parameters and import a function that determine the true data generating process. The exact market mechanisms (which the constants below affect) aren't central to explaining my workflow. So the description of market mechanics is postponed to the bottom of this notebook.\n",
    "\n",
    "For now, you can treat the quantity-determining mechanism and it's parameters as a black box, much as the airlines do."
   ]
  },
  {
   "cell_type": "code",
   "execution_count": 1,
   "metadata": {},
   "outputs": [],
   "source": [
    "import numpy as np\n",
    "import pandas as pd\n",
    "\n",
    "from sem_policy_opt.true_dgp import get_true_qty_demanded_fn\n",
    "\n",
    "\n",
    "# Constants hidden from airlines\n",
    "CUSTOMER_LEVEL_RANDOMNESS = 20\n",
    "DEMAND_SIGNAL_NOISINESS = 10\n",
    "MAX_DEMAND_LEVEL = 400\n",
    "POTENTIAL_CUSTOMERS_PER_DAY = 20\n",
    "\n",
    "# Constants known to airlines\n",
    "SEATS_PER_FLIGHT = 250\n",
    "SALES_WINDOW_LENGTH = 120\n"
   ]
  },
  {
   "cell_type": "markdown",
   "metadata": {},
   "source": [
    "I used trial and error to find a reasonable pricing function. I use the following function for both airlines when creating \"real\" data."
   ]
  },
  {
   "cell_type": "code",
   "execution_count": 2,
   "metadata": {},
   "outputs": [],
   "source": [
    "def simple_price_fn(my_demand_signal, days_before_flight, my_seats_avail, competitor_full): \n",
    "    # Charge more if you have a lot of time to sell seats, if few seats are available, or if you have little competition\n",
    "    # On net, prices may increase over time because low seat inventory overwhelms remaining time effect.\n",
    "    formula_price = 50 + my_demand_signal + 0.6 * days_before_flight - my_seats_avail + 40 * int(competitor_full)\n",
    "    # demand_signal is noisy and can thus be negative. Never price tickets below some price_floor\n",
    "    price_floor = 10\n",
    "    actual_price = max(formula_price, price_floor)\n",
    "    return actual_price\n"
   ]
  },
  {
   "cell_type": "markdown",
   "metadata": {},
   "source": [
    "# Run Real Market\n",
    "\n",
    "Airlines have historical data they can use to build a model. Here, I run the \"real\" environment to create this training data."
   ]
  },
  {
   "cell_type": "code",
   "execution_count": 3,
   "metadata": {},
   "outputs": [],
   "source": [
    "from sem_policy_opt.market import Market\n",
    "from sem_policy_opt.market_conditions import CompetitiveConditions\n",
    "from sem_policy_opt.diagnostics import run_env\n",
    "\n",
    "real_market_conditions = CompetitiveConditions(delta_price_fn = simple_price_fn, \n",
    "                                               qty_fn=get_true_qty_demanded_fn(POTENTIAL_CUSTOMERS_PER_DAY, CUSTOMER_LEVEL_RANDOMNESS))\n",
    "\n",
    "real_market = Market(real_market_conditions, MAX_DEMAND_LEVEL, DEMAND_SIGNAL_NOISINESS, SEATS_PER_FLIGHT, SALES_WINDOW_LENGTH) \n",
    "\n",
    "train_profits, train_data = run_env(real_market, simple_price_fn, n_times=1000)\n",
    "val_profits, val_data = run_env(real_market, simple_price_fn, n_times=50)"
   ]
  },
  {
   "cell_type": "markdown",
   "metadata": {},
   "source": [
    "# Step 2: Fit Predictive Model on Real Data\n",
    "\n",
    "We fit a model that predicts Delta's price and the quantity sold as a function of\n",
    "- Days remaining\n",
    "- Jetblue's demand signal\n",
    "- Jetblue's remaining number of seats available\n",
    "- Whether Delta's flight is fully booked (i.e. whether Delta is still selling tickets)\n"
   ]
  },
  {
   "cell_type": "code",
   "execution_count": 4,
   "metadata": {},
   "outputs": [
    {
     "name": "stdout",
     "output_type": "stream",
     "text": [
      "{'delta_price_r2': 0.9702370886539936, 'jb_qty_sold_r2': 0.6970092486311491, 'delta_qty_sold_r2': 0.6613003122270696}\n"
     ]
    }
   ],
   "source": [
    "from sem_policy_opt.keras_models import get_keras_model, prep_for_keras_model\n",
    "from sem_policy_opt.diagnostics import r_squared\n",
    "\n",
    "train_x, train_y = prep_for_keras_model(train_data)\n",
    "val_x, val_y = prep_for_keras_model(val_data)\n",
    "predictive_model = get_keras_model(train_x, train_y, val_x, val_y, verbose=0)\n",
    "\n",
    "print(r_squared(predictive_model, val_data))"
   ]
  },
  {
   "cell_type": "markdown",
   "metadata": {},
   "source": [
    "# Step 3: Set Up Model-Based Market Simulator\n",
    "\n",
    "I create a market based not on the true data generating processes (which the Jetblue doesn't know), but instead based on the predictive model."
   ]
  },
  {
   "cell_type": "code",
   "execution_count": 5,
   "metadata": {},
   "outputs": [],
   "source": [
    "sim_market_conditions = CompetitiveConditions(predictive_model=predictive_model)"
   ]
  },
  {
   "cell_type": "markdown",
   "metadata": {},
   "source": [
    "\n",
    "As a diagnostic, I compare predicted profits from using Jetblue's current pricing function in the training, validation and simulator data."
   ]
  },
  {
   "cell_type": "code",
   "execution_count": 6,
   "metadata": {},
   "outputs": [
    {
     "name": "stdout",
     "output_type": "stream",
     "text": [
      "Mean profits in training data: 42476.361600000004 \n",
      "Mean profits in val data: 41981.804000000004 \n",
      "Mean profits in sim data: 45069.924000000006 \n",
      "\n"
     ]
    }
   ],
   "source": [
    "# use function returning simulated market with baselines API to facilitate parallelism\n",
    "sim_market_maker = lambda: Market(sim_market_conditions, MAX_DEMAND_LEVEL, DEMAND_SIGNAL_NOISINESS, SEATS_PER_FLIGHT, SALES_WINDOW_LENGTH)\n",
    "noisy_sim_market_maker = lambda: Market(sim_market_conditions, MAX_DEMAND_LEVEL, DEMAND_SIGNAL_NOISINESS, SEATS_PER_FLIGHT, SALES_WINDOW_LENGTH, summarize_on_episode_end=True)\n",
    "sim_market = sim_market_maker()\n",
    "\n",
    "\n",
    "simple_price_sim_profits, simple_price_sim_data = run_env(sim_market, simple_price_fn, n_times=50)\n",
    "\n",
    "print(\"Mean profits in training data: {} \\n\"\n",
    "      \"Mean profits in val data: {} \\n\"\n",
    "      \"Mean profits in sim data: {} \\n\".format(train_profits.mean(), val_profits.mean(), simple_price_sim_profits.mean()))"
   ]
  },
  {
   "cell_type": "markdown",
   "metadata": {},
   "source": [
    "# Step 4: Experiment With Different Pricing Strategies\n",
    "\n",
    "We can use the simulator to test he performance of an arbitrary pricing function.\n",
    "\n",
    "As a simple experiemnt, I first estimate revenue per flight with alternative pricing functions, each of which modifies the previous pricing function by multiplying prices by some `base_price_multiplier`.\n",
    "\n",
    "For example a `base_price_multiplier` of 0.75 would correspond to discounting all prices by 25% from their previous pricing policy.\n",
    "\n",
    "Results shown below"
   ]
  },
  {
   "cell_type": "code",
   "execution_count": 7,
   "metadata": {},
   "outputs": [
    {
     "name": "stdout",
     "output_type": "stream",
     "text": [
      "   base_price_mult  mean_predicted_rev  mean_actual_rev\n",
      "0             0.50          23675.0300       29320.6500\n",
      "1             0.75          37292.4675       46219.8675\n",
      "2             1.00          44838.1700       41961.9400\n",
      "3             1.25          31039.4875       19768.4375\n",
      "4             1.50          21784.7850       13319.2650\n"
     ]
    },
    {
     "data": {
      "text/plain": [
       "<Figure size 640x480 with 2 Axes>"
      ]
     },
     "metadata": {},
     "output_type": "display_data"
    }
   ],
   "source": [
    "from matplotlib import pyplot as plt\n",
    "from matplotlib import style\n",
    "style.use('fivethirtyeight')\n",
    "\n",
    "from sem_policy_opt.diagnostics import test_pricing_multipliers\n",
    "\n",
    "price_comparison = test_pricing_multipliers(simple_price_fn, np.linspace(0.5, 1.5, 5), sim_market, real_market)\n",
    "\n",
    "print(price_comparison)\n",
    "price_comparison.plot.scatter(x='mean_predicted_rev', y='mean_actual_rev', c='base_price_mult', colormap='viridis')\n",
    "plt.show()"
   ]
  },
  {
   "cell_type": "markdown",
   "metadata": {},
   "source": [
    "Predicted revenue per flight is reasonable close to the actual revenue for flight when the multipliers is close to 1. Predictions become less accurate as we move further from the pricing policy used in the training data.\n",
    "\n",
    "This is a limitation of the predictive model, rather than a shortcoming of the structural model. It's unsurprising that the predictive model is inaccurate for inputs that are far from what occurred in the training data.\n",
    "\n",
    "To see the shortcoming in the predictive model, consider the demand curve shown below. Here, I predict quantities sold in a given day for various candidate jetblue prices (holding the number of days until the flight and Jetblue's demand signal constant.)"
   ]
  },
  {
   "cell_type": "code",
   "execution_count": 8,
   "metadata": {},
   "outputs": [
    {
     "data": {
      "text/html": [
       "<div>\n",
       "<style scoped>\n",
       "    .dataframe tbody tr th:only-of-type {\n",
       "        vertical-align: middle;\n",
       "    }\n",
       "\n",
       "    .dataframe tbody tr th {\n",
       "        vertical-align: top;\n",
       "    }\n",
       "\n",
       "    .dataframe thead th {\n",
       "        text-align: right;\n",
       "    }\n",
       "</style>\n",
       "<table border=\"1\" class=\"dataframe\">\n",
       "  <thead>\n",
       "    <tr style=\"text-align: right;\">\n",
       "      <th></th>\n",
       "      <th>delta_price</th>\n",
       "      <th>delta_seats_sold</th>\n",
       "      <th>jetblue_seats_sold</th>\n",
       "    </tr>\n",
       "    <tr>\n",
       "      <th>jb_price</th>\n",
       "      <th></th>\n",
       "      <th></th>\n",
       "      <th></th>\n",
       "    </tr>\n",
       "  </thead>\n",
       "  <tbody>\n",
       "    <tr>\n",
       "      <th>0.0</th>\n",
       "      <td>93.636215</td>\n",
       "      <td>4.692324</td>\n",
       "      <td>9.627397</td>\n",
       "    </tr>\n",
       "    <tr>\n",
       "      <th>80.0</th>\n",
       "      <td>93.636215</td>\n",
       "      <td>6.995571</td>\n",
       "      <td>8.111498</td>\n",
       "    </tr>\n",
       "    <tr>\n",
       "      <th>160.0</th>\n",
       "      <td>93.636215</td>\n",
       "      <td>1.338803</td>\n",
       "      <td>0.517717</td>\n",
       "    </tr>\n",
       "    <tr>\n",
       "      <th>240.0</th>\n",
       "      <td>93.636215</td>\n",
       "      <td>0.988530</td>\n",
       "      <td>0.131826</td>\n",
       "    </tr>\n",
       "    <tr>\n",
       "      <th>320.0</th>\n",
       "      <td>93.636215</td>\n",
       "      <td>0.358300</td>\n",
       "      <td>0.052600</td>\n",
       "    </tr>\n",
       "    <tr>\n",
       "      <th>400.0</th>\n",
       "      <td>93.636215</td>\n",
       "      <td>0.018477</td>\n",
       "      <td>0.010047</td>\n",
       "    </tr>\n",
       "  </tbody>\n",
       "</table>\n",
       "</div>"
      ],
      "text/plain": [
       "          delta_price  delta_seats_sold  jetblue_seats_sold\n",
       "jb_price                                                   \n",
       "0.0         93.636215          4.692324            9.627397\n",
       "80.0        93.636215          6.995571            8.111498\n",
       "160.0       93.636215          1.338803            0.517717\n",
       "240.0       93.636215          0.988530            0.131826\n",
       "320.0       93.636215          0.358300            0.052600\n",
       "400.0       93.636215          0.018477            0.010047"
      ]
     },
     "execution_count": 8,
     "metadata": {},
     "output_type": "execute_result"
    }
   ],
   "source": [
    "days_before_flight = jb_demand_signal = 100\n",
    "pred_outcomes_diff_jb_prices = []\n",
    "for jb_price in np.linspace(0, MAX_DEMAND_LEVEL, 6):\n",
    "    # Some extra munging here do to messiness associated with multi-input / multi-output model.\n",
    "    # each input fed in as separate array to facilitate hiding jetblue_price from prediction of delta_price\n",
    "    prediction_data = prep_for_keras_model([days_before_flight, jb_demand_signal, jb_price], skip_y=True)\n",
    "    prediction = predictive_model.predict(prediction_data)\n",
    "    delta_price, jb_seats_sold, delta_seats_sold = [i[0][0] for i in prediction]\n",
    "    pred_outcomes_diff_jb_prices.append({'jb_price': jb_price,\n",
    "                                         'delta_price': delta_price,\n",
    "                                         'jetblue_seats_sold': jb_seats_sold,\n",
    "                                         'delta_seats_sold': delta_seats_sold})\n",
    "pd.DataFrame(pred_outcomes_diff_jb_prices).set_index(['jb_price'])"
   ]
  },
  {
   "cell_type": "markdown",
   "metadata": {},
   "source": [
    "It's reassuring that delta price is independent of **jb_price**. As a rule of the environment, Delta chooses a price before seeing Jetblue's.  However, it's a shortcoming of the model that Delta's quantity sold doesn't monotonically increase with Jetblue's price.\n",
    "\n",
    "Even with an imperfect model, pricing policy optimization can work very well, and an optimized policy would yield far greater profits in the real environment."
   ]
  },
  {
   "cell_type": "markdown",
   "metadata": {},
   "source": [
    "# Step 4: Optimize Policy Function\n",
    "We could use an arbitrary optimization procedure to optimize our policy. The appendix contains a Soft Actor Critic approach, and I may experiment with other approaches in the future. For now, I use a simple grid search. Pricing policies are created as linear functions of the state variables\n",
    "- Daily demand signal\n",
    "- Days remaining before flight\n",
    "- Seats available\n",
    "- Whether the competitor's flight is full\n",
    "\n",
    "I try various multipliers of these state variables. The pricing equation is specified more precisely [here](https://github.com/dansbecker/sem_policy_opt/blob/master/sem_policy_opt/diagnostics.py#L9).\n",
    "\n",
    "The optimization code is below."
   ]
  },
  {
   "cell_type": "code",
   "execution_count": 21,
   "metadata": {},
   "outputs": [
    {
     "name": "stdout",
     "output_type": "stream",
     "text": [
      "Optimation time: 129\n"
     ]
    }
   ],
   "source": [
    "from collections import OrderedDict\n",
    "from itertools import product\n",
    "from time import time\n",
    "from sem_policy_opt.diagnostics import pricing_fn_creator\n",
    "\n",
    "optim_results = []\n",
    "intercepts = np.linspace(0, 200, 4)\n",
    "demand_signal_mults = np.linspace(0, 1, 4)\n",
    "days_before_flight_mults = np.linspace(0, 1, 4)\n",
    "seats_avail_mults = np.linspace(-1, 0, 4)\n",
    "competitor_full_mults = np.linspace(0, 100, 4)\n",
    "price_floors = np.array([0, 50])\n",
    "\n",
    "pricing_combinations = product(intercepts, demand_signal_mults, days_before_flight_mults, \n",
    "                               seats_avail_mults, competitor_full_mults, price_floors)    \n",
    "\n",
    "optim_start_time = time()\n",
    "for params in pricing_combinations:\n",
    "    pricing_fn = pricing_fn_creator(*params)\n",
    "    mean_sim_reward = run_env(sim_market, pricing_fn, n_times=5)[0].mean()\n",
    "    mean_real_reward = run_env(real_market, pricing_fn, n_times=5)[0].mean()\n",
    "\n",
    "    optim_results.append(OrderedDict(intercept=params[0],\n",
    "                                     demand_signal_mult=params[1],\n",
    "                                     days_before_flight_mult=params[2],\n",
    "                                     seats_avail_mult=params[3],\n",
    "                                     competitor_full_mult=params[4],\n",
    "                                     price_floor=params[5],\n",
    "                                     sim_profit=mean_sim_reward,\n",
    "                                     real_profit=mean_real_reward))\n",
    "    \n",
    "optim_results_df = pd.DataFrame(optim_results)\n",
    "print(\"Optimation time: {}\".format(int(time()-optim_start_time)))"
   ]
  },
  {
   "cell_type": "markdown",
   "metadata": {},
   "source": [
    "A firm would select the policy that returns the highest predicted profit in simulation (since simulation is all they can see before implementing a new policy). This process is effective to the extent the policy generates higher profits in the true market environment. Predicted and real profits from various policies are shown in the following graph."
   ]
  },
  {
   "cell_type": "code",
   "execution_count": 22,
   "metadata": {},
   "outputs": [
    {
     "data": {
      "image/png": "[encoded data removed]",
      "text/plain": [
       "<Figure size 432x288 with 1 Axes>"
      ]
     },
     "metadata": {
      "needs_background": "light"
     },
     "output_type": "display_data"
    }
   ],
   "source": [
    "from sem_policy_opt.diagnostics import plot_optim_results\n",
    "\n",
    "\n",
    "plot_optim_results(optim_results_df, \n",
    "                   baseline_real_profits=val_profits.mean(), \n",
    "                   baseline_sim_profits=simple_price_sim_profits.mean())"
   ]
  },
  {
   "cell_type": "markdown",
   "metadata": {},
   "source": [
    "The pricing parameters yielding the highest profits were:"
   ]
  },
  {
   "cell_type": "code",
   "execution_count": 23,
   "metadata": {},
   "outputs": [
    {
     "data": {
      "text/html": [
       "<div>\n",
       "<style scoped>\n",
       "    .dataframe tbody tr th:only-of-type {\n",
       "        vertical-align: middle;\n",
       "    }\n",
       "\n",
       "    .dataframe tbody tr th {\n",
       "        vertical-align: top;\n",
       "    }\n",
       "\n",
       "    .dataframe thead th {\n",
       "        text-align: right;\n",
       "    }\n",
       "</style>\n",
       "<table border=\"1\" class=\"dataframe\">\n",
       "  <thead>\n",
       "    <tr style=\"text-align: right;\">\n",
       "      <th></th>\n",
       "      <th>intercept</th>\n",
       "      <th>demand_signal_mult</th>\n",
       "      <th>days_before_flight_mult</th>\n",
       "      <th>seats_avail_mult</th>\n",
       "      <th>competitor_full_mult</th>\n",
       "      <th>price_floor</th>\n",
       "      <th>sim_profit</th>\n",
       "      <th>real_profit</th>\n",
       "    </tr>\n",
       "  </thead>\n",
       "  <tbody>\n",
       "    <tr>\n",
       "      <th>94</th>\n",
       "      <td>200.0</td>\n",
       "      <td>0.0</td>\n",
       "      <td>1.0</td>\n",
       "      <td>0.0</td>\n",
       "      <td>100.0</td>\n",
       "      <td>0</td>\n",
       "      <td>69218.6</td>\n",
       "      <td>71972.2</td>\n",
       "    </tr>\n",
       "  </tbody>\n",
       "</table>\n",
       "</div>"
      ],
      "text/plain": [
       "    intercept  demand_signal_mult  days_before_flight_mult  seats_avail_mult  \\\n",
       "94      200.0                 0.0                      1.0               0.0   \n",
       "\n",
       "    competitor_full_mult  price_floor  sim_profit  real_profit  \n",
       "94                 100.0            0     69218.6      71972.2  "
      ]
     },
     "execution_count": 23,
     "metadata": {},
     "output_type": "execute_result"
    }
   ],
   "source": [
    "max_sim_profit = max(optim_results_df.sim_profit)\n",
    "optim_results_df.query('sim_profit == @max_sim_profit')"
   ]
  },
  {
   "cell_type": "markdown",
   "metadata": {},
   "source": [
    "Price optimization nearly doubled real profits in this example. \n",
    "\n",
    "In practice, airlines must have better pricing strategies than the baseline I found through the trial and error experimentation.  On the other hand, even a 1% increase in revenue would be a big win. \n",
    "\n",
    "The two greatest shortcomings of this example are:\n",
    "1. This market is simplified in important ways. There is only one competitor. There are fewer moving parts like seasonality that affect demand (though the effect of seasonality could be estimated and plugged into this example in a straightforward way)\n",
    "2. Firms likely won't implement an important policy without evidence it works. This example simulates the real environment to provide that evidence in this use case, but it's unclear how to make this workflow compelling without that.\n",
    "\n",
    "I'm interested in others' reactions so I can add to this list (and hopefully address some shortcomings).\n",
    "\n",
    "Despite these shortcomings, this notebook demonstrates an optimization workflow that I believe adds as values on the same order of magnitude as what most organizations will gain from applying supervised ML without optimization."
   ]
  },
  {
   "cell_type": "markdown",
   "metadata": {},
   "source": [
    "# Appendix\n",
    "\n",
    "#### How The Market In This Example Works\n",
    "Some number of customers (`POTENTIAL_CUSTOMERS_PER_DAY`) come to a website each day.  The customers' average willingness to pay for a flight on that day `demand_level`. The `demand level` on any given day is chosen from a distribution `uniform(0, MAX_DEMAND_LEVEL)`.  Each airline receives a signal about `demand_level` on that day, and the signal is the `demand_level` plus some noise that is distributed `N(0, DEMAND_SIGNAL_NOISINESS)`. This demand signal might represent a prediction of demand from a model considering seasonality, macroeconomics, etc. Additionally, each customer has idiosyncratic preferences, so their willingness to pay for a ticket on any given airline is `demand_level + customer_preference` where `customer_preference` is distributed `N(0, CUSTOMER_LEVEL_RANDOMNESS)`.  The customer considers the price for each of the two airlines and purchases a ticket from the airline that gives them the highest consumer surplus (their personal willingness to pay minus for a ticket on that airline minus the cost of a ticket on that airline).  If the customer's consumer surplus for both airlines is negative, they do not buy a ticket.\n",
    "\n",
    "#### Optimization Through Modern Reinforcement Learning\n",
    "\n",
    "The cell below optimizes the pricing policy through Soft Actor Critic (SAC), an RL algorithm that is sample efficient and which is reported to require little hyperparameter tuning.\n",
    "\n",
    "An initial run of SAC shows worse results than the simple grid search (\"worse\" at optimizing in the simulation environment). This implementation of SAC requires the action space be symmetric, so negative prices are allowed. Oddly, SAC sometimes chooses negative prices. Further exploration could be interesting, but grid-search shows the promise of my larger approach even with very basic optimization techniques."
   ]
  },
  {
   "cell_type": "code",
   "execution_count": null,
   "metadata": {},
   "outputs": [],
   "source": [
    "from stable_baselines.common.vec_env import DummyVecEnv\n",
    "from stable_baselines.sac.policies import MlpPolicy\n",
    "from stable_baselines.sac import SAC\n",
    "from time import time\n",
    "import os\n",
    "\n",
    "parallelism_level = 1         # use os.cpu_count() if not using SAC. SAC doesn't allow parallelism\n",
    "env = DummyVecEnv([sim_market_maker for _ in range(parallelism_level)]) # Env is vectorized market for parallelism\n",
    "total_learning_steps = 750000\n",
    "steps_per_update = 10000\n",
    "optim_results = []\n",
    "\n",
    "model = SAC(MlpPolicy, env)\n",
    "\n",
    "start_time = time()\n",
    "for step in range(0, total_learning_steps+1, steps_per_update):\n",
    "    model.learn(total_timesteps=steps_per_update)\n",
    "    \n",
    "    mean_sim_reward = run_env(sim_market, model, n_times=5)[0].mean()\n",
    "    mean_real_reward = run_env(real_market, model, n_times=5)[0].mean()\n",
    "    optim_results.append(dict(step=step, \n",
    "                              time=time()-start_time,\n",
    "                              sim_profit=mean_sim_reward,\n",
    "                              real_profit=mean_real_reward))\n",
    "    \n",
    "    print(\"\"\"{} timesteps used for learning in {:.0f} seconds. \n",
    "             Current score in sim: {:.0f}. Current score in real market: {:.0f}.\"\"\".format(\n",
    "                                                                                step,\n",
    "                                                                                time()-start_time, \n",
    "                                                                                mean_sim_reward, \n",
    "                                                                                mean_real_reward))\n",
    "optim_results_df = pd.DataFrame(optim_results)\n",
    "optim_results_df.plot.line(x='step', y=['sim_profit', 'real_profit'])"
   ]
  }
 ],
 "metadata": {
  "kernelspec": {
   "display_name": "Python 3",
   "language": "python",
   "name": "python3"
  },
  "language_info": {
   "codemirror_mode": {
    "name": "ipython",
    "version": 3
   },
   "file_extension": ".py",
   "mimetype": "text/x-python",
   "name": "python",
   "nbconvert_exporter": "python",
   "pygments_lexer": "ipython3",
   "version": "3.6.7"
  }
 },
 "nbformat": 4,
 "nbformat_minor": 2
}
