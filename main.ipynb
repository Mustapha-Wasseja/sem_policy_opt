{
 "cells": [
  {
   "cell_type": "markdown",
   "metadata": {},
   "source": [
    "# Intro\n",
    "\n",
    "Supervised ML focuses on prediction, but it is actions that influence the world. Predictions can be useful inputs into decision-making, but decision-making involves a subsequent optimization step which we currently devote less energy to.\n",
    "\n",
    "Reinforcement learning (RL) directly optimizes actions. But RL research is focused on very different problems than those where supervised ML is providing value today. This notebook shows a decision optimization workflow designed for mainstream business applications. \n",
    "\n",
    "My interactions with data scientists outside the tech giants convince me that this approach will add at least as much value as businesses have received from adopting supervised ML so far.\n",
    "\n",
    "The workflow is:\n",
    "1. Encode a practitioners domain knowledge into a model. This model can be a system of multiple equations, depicting different moving parts of the business environment.\n",
    "2. Use existing data to estimate parameters of the relationships described in the model. More detail on this below.\n",
    "3. Treat the estimated model as a simulation environment. Optimize the decision policy in this simulation environment.\n",
    "4. Apply that decision policy in the real business environment\n",
    "\n",
    "### Differences from Conventional RL\n",
    "\n",
    "This approach differs from mainstream RL in 3 ways:\n",
    "\n",
    "1. The RL community generally eschews human engineered models. I go the opposite direction, relying on human knowledge to structure the model.\n",
    "\n",
    "2. RL research is computationally difficult because it is applied to problems with high dimensional state spaces (e.g. robotics and video games). I focus on problems where state spaces are several orders of magnitude smaller. Optimization is much easier in such low dimensional spaces.\n",
    "\n",
    "3. Conventional RL agents learn by interacting directly with the environment. But no business would deploy an untrained agent to experiment with important business decisions. Instead, I do optimization offline (in the simulator). Only the optimized policy would be deployed to a real environment.\n",
    "\n",
    "> Though I use a model, this workflow is not conventional model-based reinforcement learning. Specifically, the model of the environment isn't updated during policy optimization. This difference flows from the goal of doing policy optimization outside the real environment.\n",
    "This approach is closer to [World Models](https://arxiv.org/abs/1803.10122). But World Models avoids human knowledge when building the simulator, relying instead on standard deep learning models. My approach would fail in the World Models testbed (a video game) because humans have little intuition in the pixel space. But humans have good intuitions about the problems I aim to solve, and that knowledge is a beneficial regularizer in my proposed workflow.\n",
    "\n",
    "# Example: Airline Pricing\n",
    "Airlines already use machine learning models to help set ticket prices. The ML model predicts how many tickets the airline can sell each day for each upcoming flight for each candidate price. The models consider price, seasonablity, competitor prices, macroeconomic variables, etc. But even a perfect predictive model doesn't guarantee efficient price setting.\n",
    "\n",
    "For example, consider a flight happening in 100 days with 150 unsold seats. A predictive model says you can sell 1 ticket today for \\\\$300 or you could sell 2 tickets if you set the price at $250. Which price should you choose? \n",
    "\n",
    "Airlines currently convert predictive models into pricing decisions with shockingly simple heuristics (e.g. a table of how many tickets to sell at pre-specified periods before the flight)\n",
    "\n",
    "This notebook trains an agent to set prices through a more formal and flexible optimization process. \n",
    "\n",
    "To illustrate the how resulting pricing policies perform in the original data generating environment, I use a simulation for the data generating process rather than using real data. Though I take a fixed dataset for trainng the predictive model in the conventional way. \n",
    "\n",
    "For illustrative simplicity, this example considers a market with only two airlines. I train an agent to set prices for Jetblue, facing a competitor called Delta.\n",
    "\n",
    "### The Two Models\n",
    "\n",
    "I use two models:\n",
    "The **structural model** defines the parts of the market that a domain expert can specify. The structural model used in this example is straightforward.  It is implemented in this code [This code](https://github.com/dansbecker/sem_policy_opt/blob/master/sem_policy_opt/market.py#L45).\n",
    "\n",
    "The key facts encoded in the model are:\n",
    "\n",
    "Each flight starts with a fixed number of available seats and a fixed number of days to departure. \n",
    "\n",
    "Each day until the flight happens\n",
    "- airlines can update the ticket price daily\n",
    "- the number of seats available decreases by the number of seats that airline sells\n",
    "- the number of days until the flight decreases by 1\n",
    "- accumulated revenue for the flight increases by `ticket_price * seats_sold`\n",
    "- airlines cannot sell more seats than the plane has, and sales stop when the plane takes off (this model ignores overbooking, though someone more knowledgeable might add it to the model)\n",
    "\n",
    "\n",
    "The second model is the **predictive model**, which captures things the airline is uncertain about:\n",
    "- How their competitor sets prices\n",
    "- How many seats each airline will sell on each day (as a function of daily demand shocks and each airline's price)\n",
    "\n",
    "I start by conventional [deep learning model](https://github.com/dansbecker/sem_policy_opt/blob/master/sem_policy_opt/keras_models.py#L22) for the predictive model. Towards the end of the notebook I use a Bayesian neural network for the predictive model and discuss the resulting benefits.\n",
    "\n",
    "The structural model is completely deterministic once it receives the predictions from the predictive model.\n",
    "\n",
    "> Aside: The field of structural econometrics has historically incorporated all uncertainty into the structural model, and not used a separate predictive model. This requires specifying functional forms in the structural model and estimating those parameters directly (e.g. with maximum likelihood estimation). That workflow has the standard shorcomings of GLM style modeling (e.g. underfitting). Abstracting uncertainty into a predictive model provides the flexibility to use modern ML.\n",
    "\n",
    "### Implementation Details\n",
    "The code captures the two models in two objects:\n",
    "- A `CompetitiveConditions` object contains the predictive model. It captures pricing strategies and the process for determining how many tickets are sold. When generating training data, the `CompetitiveConditions` object holds the true data generating process for pricing and quantity determination (rather than a predictive model). The data generating is unlike the predictive models that approximate it. Details of the data generating process for price and quantity determination aren't central to my workflow, so their description is saved for the end of this notebook.\n",
    "\n",
    "- A `Market` object contains the logic for the structural model. The `market` object takes `CompetitiveConditions` as an argument, so predictions about market dynamics can be plugged into the structural model.\n",
    "\n",
    "`Market` follows the OpenAI Gym API, allowing standard RL libraries to be used for pricing policy optimization in our model based environment."
   ]
  },
  {
   "cell_type": "markdown",
   "metadata": {},
   "source": [
    "# Step 1: Collect Data From Real Market\n",
    "\n",
    "I define parameters and import a pricing function for use in the true data generating process. The exact market mechanisms (which the constants below affect) aren't central to explaining my modeling and optimization approach. So the description of market mechanics is postponed to the bottom of this notebook.\n",
    "\n",
    "For now, you can treat the quantity-determining mechanism and it's parameters as a black box, much as the airlines do."
   ]
  },
  {
   "cell_type": "code",
   "execution_count": 1,
   "metadata": {},
   "outputs": [],
   "source": [
    "import numpy as np\n",
    "import pandas as pd\n",
    "\n",
    "from matplotlib import style\n",
    "style.use('fivethirtyeight')\n",
    "\n",
    "from sem_policy_opt.true_dgp import get_true_qty_demanded_fn\n",
    "\n",
    "# Constants hidden from airlines\n",
    "CUSTOMER_LEVEL_RANDOMNESS = 20 # Std. Dev of idiosyncratic custom preference between airlines\n",
    "DEMAND_SIGNAL_NOISINESS = 20  # Std. Dev of noise in how airlines' obversve daily traffic shocks\n",
    "MAX_DEMAND_LEVEL = 400 # The most any customer will ever pay\n",
    "POTENTIAL_CUSTOMERS_PER_DAY = 20 # Number of unique agents on consumer side of data generating process\n",
    "FLIGHTS_IN_TRAINING_DATA = 250\n",
    "FLIGHTS_IN_VAL_DATA = 25\n",
    "\n",
    "# Constants known to airlines\n",
    "SEATS_PER_FLIGHT = 250 \n",
    "SALES_WINDOW_LENGTH = 120 # Length of time airline has to sell tickets before flight takes off"
   ]
  },
  {
   "cell_type": "markdown",
   "metadata": {},
   "source": [
    "I used trial and error to find a reasonable pricing function. I use the following function for both airlines when creating \"real\" data."
   ]
  },
  {
   "cell_type": "code",
   "execution_count": 2,
   "metadata": {},
   "outputs": [],
   "source": [
    "def simple_price_fn(my_demand_signal, days_before_flight, my_seats_avail, competitor_full): \n",
    "    # Charge more if you have a lot of time to sell seats, if few seats are available, or if you have little competition\n",
    "    # On net, prices may increase over time because low seat inventory overwhelms remaining time effect.\n",
    "    formula_price = 50 + my_demand_signal + 0.6 * days_before_flight - my_seats_avail + 40 * int(competitor_full)\n",
    "    # demand_signal is noisy and can thus be negative. Never price tickets below some price_floor\n",
    "    price_floor = 10\n",
    "    actual_price = max(formula_price, price_floor)\n",
    "    return actual_price\n"
   ]
  },
  {
   "cell_type": "markdown",
   "metadata": {},
   "source": [
    "# Step 1: Collect Training Data from Real Market\n",
    "\n",
    "Airlines have historical data they can use to build a model. Here, I run the \"real\" environment to create training data."
   ]
  },
  {
   "cell_type": "code",
   "execution_count": 3,
   "metadata": {},
   "outputs": [],
   "source": [
    "from sem_policy_opt.market import Market\n",
    "from sem_policy_opt.market_conditions import CompetitiveConditions\n",
    "from sem_policy_opt.diagnostics import run_env\n",
    "\n",
    "real_market_conditions = CompetitiveConditions(delta_price_fn = simple_price_fn, \n",
    "                                               qty_fn=get_true_qty_demanded_fn(POTENTIAL_CUSTOMERS_PER_DAY, CUSTOMER_LEVEL_RANDOMNESS))\n",
    "\n",
    "real_market = Market(real_market_conditions, MAX_DEMAND_LEVEL, DEMAND_SIGNAL_NOISINESS, SEATS_PER_FLIGHT, SALES_WINDOW_LENGTH) \n",
    "\n",
    "train_profits, train_data = run_env(real_market, simple_price_fn, n_times=FLIGHTS_IN_TRAINING_DATA)\n",
    "val_profits, val_data = run_env(real_market, simple_price_fn, n_times=FLIGHTS_IN_VAL_DATA)"
   ]
  },
  {
   "cell_type": "markdown",
   "metadata": {},
   "source": [
    "# Step 2: Fit Predictive Model on Real Data\n",
    "\n",
    "We use the training data to fit a model that predicts Delta's price and both airlines' quantity sold as a function of\n",
    "- Days remaining\n",
    "- Jetblue's demand signal\n",
    "- Jetblue's remaining number of seats available\n",
    "- Whether Delta's flight is fully booked (i.e. whether Delta is still selling tickets)\n"
   ]
  },
  {
   "cell_type": "code",
   "execution_count": 17,
   "metadata": {},
   "outputs": [
    {
     "name": "stdout",
     "output_type": "stream",
     "text": [
      "The autoreload extension is already loaded. To reload it, use:\n",
      "  %reload_ext autoreload\n",
      "r-squared values for predictive model:\n"
     ]
    },
    {
     "data": {
      "text/plain": [
       "{'delta_price': 0.83, 'jb_qty_sold': 0.53, 'delta_qty_sold': 0.5}"
      ]
     },
     "execution_count": 17,
     "metadata": {},
     "output_type": "execute_result"
    }
   ],
   "source": [
    "%load_ext autoreload\n",
    "%autoreload 2\n",
    "import pymc3 as pm\n",
    "from sem_policy_opt.pymc_models import WrappedPymcModel\n",
    "from sem_policy_opt.keras_models import WrappedKerasModel\n",
    "from sem_policy_opt.diagnostics import r_squared\n",
    "import theano\n",
    "from theano import tensor as tt\n",
    "\n",
    "predictive_model = WrappedKerasModel(train_data)\n",
    "\n",
    "print('r-squared values for predictive model:')\n",
    "r_squared(predictive_model, val_data.iloc[:200])"
   ]
  },
  {
   "cell_type": "markdown",
   "metadata": {},
   "source": [
    "# Step 3: Set Up Model-Based Market Simulator\n",
    "\n",
    "I create a market based not on the true data generating processes (which the Jetblue doesn't know), but instead based on the predictive model."
   ]
  },
  {
   "cell_type": "code",
   "execution_count": 18,
   "metadata": {},
   "outputs": [],
   "source": [
    "sim_market_conditions = CompetitiveConditions(predictive_model=predictive_model)\n",
    "sim_market = Market(sim_market_conditions, MAX_DEMAND_LEVEL, DEMAND_SIGNAL_NOISINESS, SEATS_PER_FLIGHT, SALES_WINDOW_LENGTH)"
   ]
  },
  {
   "cell_type": "markdown",
   "metadata": {},
   "source": [
    "\n",
    "As a diagnostic, I compare predicted profits from using Jetblue's current pricing function in the training, validation and simulator data."
   ]
  },
  {
   "cell_type": "code",
   "execution_count": 19,
   "metadata": {},
   "outputs": [
    {
     "name": "stdout",
     "output_type": "stream",
     "text": [
      "Mean profits in training data: $42,093 \n",
      "Mean profits in val data: $41,815 \n",
      "Mean profits in sim data: $46,501 \n",
      "\n"
     ]
    }
   ],
   "source": [
    "simple_price_sim_profits, simple_price_sim_data = run_env(sim_market, simple_price_fn, n_times=20)\n",
    "\n",
    "print(\"Mean profits in training data: ${:,.0f} \\n\"\n",
    "      \"Mean profits in val data: ${:,.0f} \\n\"\n",
    "      \"Mean profits in sim data: ${:,.0f} \\n\".format(train_profits.mean(), val_profits.mean(), simple_price_sim_profits.mean()))"
   ]
  },
  {
   "cell_type": "markdown",
   "metadata": {},
   "source": [
    "### Step 3.1 Model Diagnostics\n",
    "This modeling set-up facilitates the types of diagnostics common in classical econometrics or Bayesian modeling. Beyond one example, I omit those in this notebook to move on to optimization. \n",
    "\n",
    "As an example, we can plot a demand curve and cross-price demand curve. These show how predicted ticket sales vary with respect to Jetblue's prices (holding other factors constant.)"
   ]
  },
  {
   "cell_type": "code",
   "execution_count": 21,
   "metadata": {},
   "outputs": [
    {
     "data": {
      "text/plain": [
       "<matplotlib.axes._subplots.AxesSubplot at 0x1c5428dba8>"
      ]
     },
     "execution_count": 21,
     "metadata": {},
     "output_type": "execute_result"
    },
    {
     "data": {
      "image/png": "[encoded data removed]",
      "text/plain": [
       "<Figure size 432x288 with 1 Axes>"
      ]
     },
     "metadata": {
      "needs_background": "light"
     },
     "output_type": "display_data"
    }
   ],
   "source": [
    "demand_curves = pd.DataFrame()\n",
    "for jb_price in np.linspace(0, MAX_DEMAND_LEVEL, 6):\n",
    "    prediction_data = pd.DataFrame(dict(days_before_flight=[150], \n",
    "                                        jb_demand_signal=[150], \n",
    "                                        delta_price=[150],\n",
    "                                        jb_price=[jb_price]))\n",
    "    prediction = predictive_model.predict(prediction_data)\n",
    "    prediction['jb_price'] = [jb_price]\n",
    "    demand_curves = pd.concat([demand_curves, pd.DataFrame(prediction)])\n",
    "demand_curves.plot(x='jb_price', y=['jb_qty_sold', 'delta_qty_sold'])"
   ]
  },
  {
   "cell_type": "markdown",
   "metadata": {},
   "source": [
    "Non-monotonicities show shortcomings of the predictive model. We would interate on the model in practical applications, but pricing policy optimization works well even with this model."
   ]
  },
  {
   "cell_type": "markdown",
   "metadata": {},
   "source": [
    "# Step 4: Optimize Policy Function\n",
    "We could use an arbitrary optimization procedure to optimize our policy. The appendix contains a Soft Actor Critic optimizer, and I may experiment with other optimizers in the future. For now, I use a simple grid search. Pricing policies are created as linear functions of the state variables\n",
    "- Daily demand signal\n",
    "- Days remaining before flight\n",
    "- Seats available\n",
    "- Whether the competitor's flight is full\n",
    "\n",
    "I try various multipliers of these state variables. The pricing equation is specified more precisely [here](https://github.com/dansbecker/sem_policy_opt/blob/master/sem_policy_opt/diagnostics.py#L9).\n",
    "\n",
    "The optimization code is below."
   ]
  },
  {
   "cell_type": "code",
   "execution_count": 24,
   "metadata": {},
   "outputs": [],
   "source": [
    "from collections import OrderedDict\n",
    "from itertools import product\n",
    "from time import time\n",
    "from sem_policy_opt.diagnostics import pricing_fn_creator, get_real_and_sim_rewards\n",
    "\n",
    "optim_start_time = time()\n",
    "\n",
    "# Create points in grid of pricing policies to be considered during optimization\n",
    "intercepts = np.linspace(0, 200, 4)\n",
    "demand_signal_mults = np.linspace(0, 1, 4)\n",
    "days_before_flight_mults = np.linspace(0, 1, 3)\n",
    "seats_avail_mults = np.linspace(-1, 0, 3)\n",
    "competitor_full_mults = np.linspace(0, 100, 3)\n",
    "price_floors = np.linspace(10, 50, 2)\n",
    "\n",
    "pricing_combinations = product(intercepts, demand_signal_mults, days_before_flight_mults, \n",
    "                               seats_avail_mults, competitor_full_mults, price_floors)\n",
    "\n",
    "pricing_fns = [pricing_fn_creator(*params) for params in pricing_combinations]\n",
    "real_and_sim_rewards = get_real_and_sim_rewards(real_market, sim_market, pricing_fns)\n",
    "\n",
    "print(\"Optimation time: {}\".format(int(time()-optim_start_time)))"
   ]
  },
  {
   "cell_type": "markdown",
   "metadata": {},
   "source": [
    "A firm would select the policy that returns the highest predicted profit in simulation (since simulation is all they can see before implementing a new policy). This process is effective to the extent the policy generates higher profits in the true market environment. Predicted and real profits from various policies are shown in the following graph."
   ]
  },
  {
   "cell_type": "code",
   "execution_count": null,
   "metadata": {},
   "outputs": [],
   "source": [
    "from sem_policy_opt.diagnostics import plot_optim_results\n",
    "\n",
    "plot_optim_results(real_and_sim_rewards,\n",
    "                   baseline_real_profits=val_profits.mean(), \n",
    "                   baseline_sim_profits=simple_price_sim_profits.mean())"
   ]
  },
  {
   "cell_type": "markdown",
   "metadata": {},
   "source": [
    "# Sensitivity Analysis\n",
    "\n",
    "The optimization process appears effective. Did this hinge critically on the quality of the predictive model?\n",
    "\n",
    "The firm predicts demand each day from a \"demand signal\", and we have a variable that specifies how noisy these signals are.\n",
    "\n",
    "The following test varies the amount of noise in the demand signal. This in turn varies the quality of the predictive model (i.e. as measured with r-squared). The result shows the relationship between quality of the predictive model and effectiveness of policy optimization."
   ]
  },
  {
   "cell_type": "code",
   "execution_count": null,
   "metadata": {},
   "outputs": [],
   "source": [
    "from sem_policy_opt.diagnostics import sensitivity_analysis\n",
    "\n",
    "noisy_real_market_maker = lambda demand_noisiness: Market(real_market_conditions, MAX_DEMAND_LEVEL, demand_noisiness, SEATS_PER_FLIGHT, SALES_WINDOW_LENGTH)\n",
    "noisy_sim_market_maker = lambda demand_noisiness, sim_conditions: Market(sim_conditions, MAX_DEMAND_LEVEL, demand_noisiness, SEATS_PER_FLIGHT, SALES_WINDOW_LENGTH)\n",
    "\n",
    "sensitivity_results = sensitivity_analysis(noisy_real_market_maker, \n",
    "                                           noisy_sim_market_maker, \n",
    "                                           noise_levels = [20, 50, 100],\n",
    "                                           pricing_fns=pricing_fns,\n",
    "                                           model_class=WrappedPymcModel,\n",
    "                                           flights_in_training_data = FLIGHTS_IN_TRAINING_DATA,\n",
    "                                           baseline_price_fn=simple_price_fn)\n",
    "sensitivity_results"
   ]
  },
  {
   "cell_type": "markdown",
   "metadata": {},
   "source": [
    "Real profits from policy optimization decrease as the environment gets noisier (and the model gets worse). This is due to worsening optimization (and not a change in the best possible policy), as the real profits from a perfectly chosen policy remain high.\n",
    "\n",
    "Optimization beats the baseline in all circumstances, though this may be an unfair comparison as the baseline policy was chosen from ad-hoc experimentation when the baseline noise level was 20.\n",
    "\n",
    "Fortunately, simulated profits are close to real profits in all cases. So a firm would have a reasonable estimate of real profits before deploying any policy."
   ]
  },
  {
   "cell_type": "markdown",
   "metadata": {},
   "source": [
    "### Bayesian Deep Learning: Uniquely Well Suited for Decision Optimization\n",
    "\n",
    "**TODO: ADD LINK TO GITHUB WHERE MODEL IS DEFINED**\n",
    "Here I use Bayesian deep learning for the predictive model. The model architecture [defined here]() is simpler than the conventional model used thus far, and it is resultingly less accurate.\n",
    "\n",
    "However, using a Bayesian model allows me to create multiple simulators based on different parts of the model posterior (i.e. the posterior over weights in the deep learning model). Using logic akin to Jensen's inequality, we get higher expected reward by optimizing a policy while sampling from the distribution of environments, rather than optimizing given the single model environment created by a deep learning model.\n",
    "\n",
    "Results below:\n"
   ]
  },
  {
   "cell_type": "code",
   "execution_count": null,
   "metadata": {},
   "outputs": [
    {
     "name": "stderr",
     "output_type": "stream",
     "text": [
      "Average Loss = 4.6556e+05: 100%|██████████| 500/500 [00:04<00:00, 122.34it/s]\n",
      "Finished [100%]: Average Loss = 4.6572e+05\n"
     ]
    }
   ],
   "source": [
    "bayesian_predictive_model = WrappedPymcModel(train_data)\n",
    "\n",
    "bayesian_sim_market_conditions = CompetitiveConditions(predictive_model=bayesian_predictive_model)\n",
    "bayesian_sim_market = Market(bayesian_sim_market_conditions, \n",
    "                             MAX_DEMAND_LEVEL, \n",
    "                             DEMAND_SIGNAL_NOISINESS, \n",
    "                             SEATS_PER_FLIGHT, \n",
    "                             SALES_WINDOW_LENGTH)\n",
    "\n",
    "bayesian_simulator_results = get_real_and_sim_rewards(real_market,\n",
    "                                                      bayesian_sim_market,\n",
    "                                                      pricing_fns)\n",
    "\n",
    "print(\"Optimation time: {}\".format(int(time()-optim_start_time)))"
   ]
  },
  {
   "cell_type": "markdown",
   "metadata": {},
   "source": [
    "# Concerns\n",
    "Price optimization nearly doubled real profits in the main example, and it consistently improved them. But I see three primary objections to this example:\n",
    "\n",
    "1) This improvement is over a baseline I created through trial and error, not a policy used in the real world (I certainly don't mean to suggest that a Fortune 500 company could double revenue this easily).\n",
    "\n",
    "2) This example is a somewhat simple problem: there are only two airlines and we didn't account for factors like seasonality. It would be straightforward to include these factors in the model, though I've yet to show how well the process works in a more complex environment.\n",
    "\n",
    "3) Most concerning, it's unclear how to show that a policy created through optimization will work well without applying it (there's nothing like a test set from supervised ML).\n",
    "\n",
    "Nevertheless, I believe this approach optimizing decision logic has amazing potential, possibly of the same order of magnitude as what we are seeing from supervised ML.\n",
    "\n",
    "I appreciate any suggestions and criticisms so I can improve the argument I've started in this notebook.\n",
    "\n",
    "# Next Steps\n",
    "\n",
    "My planned next steps are\n",
    "\n",
    "1. Abstract out the logic that's universal vs use-case specific\n",
    "2. Run on real (static) dataset rather than synthetic dataset to illustrate this workflow"
   ]
  },
  {
   "cell_type": "markdown",
   "metadata": {},
   "source": [
    "# Appendix\n",
    "\n",
    "### How The Market In This Example Works\n",
    "Some number of customers (`POTENTIAL_CUSTOMERS_PER_DAY`) come to a website each day.  The customers' average willingness to pay for a flight on that day `demand_level`. The `demand level` on any given day is chosen from a distribution `uniform(0, MAX_DEMAND_LEVEL)`.  Each airline receives a signal about `demand_level` on that day, and the signal is the `demand_level` plus some noise that is distributed `N(0, DEMAND_SIGNAL_NOISINESS)`. This demand signal might represent a prediction of demand from a model considering seasonality, macroeconomics, etc. Additionally, each customer has idiosyncratic preferences, so their willingness to pay for a ticket on any given airline is `demand_level + customer_preference` where `customer_preference` is distributed `N(0, CUSTOMER_LEVEL_RANDOMNESS)`.  The customer considers the price for each of the two airlines and purchases a ticket from the airline that gives them the highest consumer surplus (their personal willingness to pay minus for a ticket on that airline minus the cost of a ticket on that airline).  If the customer's consumer surplus for both airlines is negative, they do not buy a ticket.\n",
    "\n",
    "### Optimization Through Modern Reinforcement Learning\n",
    "\n",
    "The cell below optimizes the pricing policy with Soft Actor Critic (SAC), an RL algorithm that is sample efficient and which is reported to require little hyperparameter tuning.\n",
    "\n",
    "NOTE: I am sharing this notebook output in Kaggle Kernels. I've not yet been able to install `stable_baselines` in kernels, so I've commented this part out for now. The value of my underlying approach doesn't hinge on whether I do optimization through SAC, grid search (used above) or something else"
   ]
  },
  {
   "cell_type": "code",
   "execution_count": null,
   "metadata": {},
   "outputs": [],
   "source": [
    "if False:    # disabled until I install stable_baselines in Kernels\n",
    "    from stable_baselines.common.vec_env import DummyVecEnv\n",
    "    from stable_baselines.sac.policies import MlpPolicy\n",
    "    from stable_baselines.sac import SAC\n",
    "    from time import time\n",
    "    import os\n",
    "\n",
    "    sim_market_maker = lambda: market_maker(sim_market_conditions)\n",
    "    \n",
    "    parallelism_level = 1         # use os.cpu_count() if not using SAC. SAC doesn't allow parallelism\n",
    "    env = DummyVecEnv([sim_market_maker for _ in range(parallelism_level)]) # Env is vectorized market for parallelism\n",
    "    total_learning_steps = 750000\n",
    "    steps_per_update = 10000\n",
    "    optim_results = []\n",
    "\n",
    "    model = SAC(MlpPolicy, env)\n",
    "\n",
    "    start_time = time()\n",
    "    for step in range(0, total_learning_steps+1, steps_per_update):\n",
    "        model.learn(total_timesteps=steps_per_update)\n",
    "    \n",
    "        mean_sim_reward = run_env(sim_market_maker, model, n_times=5)[0].mean()\n",
    "        mean_real_reward = run_env(real_market_maker, model, n_times=5)[0].mean()\n",
    "        optim_results.append(dict(step=step, \n",
    "                                  time=time()-start_time,\n",
    "                                  sim_profit=mean_sim_reward,\n",
    "                                  real_profit=mean_real_reward))\n",
    "    \n",
    "        print(\"\"\"{} timesteps used for learning in {:.0f} seconds. \n",
    "                 Current score in sim: {:.0f}. Current score in real market: {:.0f}.\"\"\".format(\n",
    "                                                                                step,\n",
    "                                                                                time()-start_time, \n",
    "                                                                                mean_sim_reward, \n",
    "                                                                                mean_real_reward))\n",
    "    optim_results_df = pd.DataFrame(optim_results)\n",
    "    optim_results_df.plot.line(x='step', y=['sim_profit', 'real_profit'])"
   ]
  }
 ],
 "metadata": {
  "kernelspec": {
   "display_name": "Python 3",
   "language": "python",
   "name": "python3"
  },
  "language_info": {
   "codemirror_mode": {
    "name": "ipython",
    "version": 3
   },
   "file_extension": ".py",
   "mimetype": "text/x-python",
   "name": "python",
   "nbconvert_exporter": "python",
   "pygments_lexer": "ipython3",
   "version": "3.6.7"
  }
 },
 "nbformat": 4,
 "nbformat_minor": 2
}
